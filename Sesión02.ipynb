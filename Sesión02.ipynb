{
 "cells": [
  {
   "cell_type": "markdown",
   "metadata": {},
   "source": [
    "## Iteration and ranges "
   ]
  },
  {
   "cell_type": "code",
   "execution_count": 92,
   "metadata": {
    "collapsed": false
   },
   "outputs": [
    {
     "name": "stdout",
     "output_type": "stream",
     "text": [
      "1\n",
      "2\n",
      "3\n",
      "4\n",
      "5\n",
      "6\n",
      "7\n",
      "8\n",
      "9\n",
      "10\n"
     ]
    }
   ],
   "source": [
    "for i in 1:10\n",
    "    println(i)\n",
    "end"
   ]
  },
  {
   "cell_type": "code",
   "execution_count": 96,
   "metadata": {
    "collapsed": false
   },
   "outputs": [
    {
     "data": {
      "text/plain": [
       "1:10"
      ]
     },
     "execution_count": 96,
     "metadata": {},
     "output_type": "execute_result"
    }
   ],
   "source": [
    "a = 1:10"
   ]
  },
  {
   "cell_type": "code",
   "execution_count": 2,
   "metadata": {
    "collapsed": false
   },
   "outputs": [
    {
     "data": {
      "text/plain": [
       "UnitRange{Int64}"
      ]
     },
     "execution_count": 2,
     "metadata": {},
     "output_type": "execute_result"
    }
   ],
   "source": [
    "typeof(1:10)"
   ]
  },
  {
   "cell_type": "code",
   "execution_count": 98,
   "metadata": {
    "collapsed": false
   },
   "outputs": [
    {
     "name": "stdout",
     "output_type": "stream",
     "text": [
      "1\n",
      "2\n",
      "3\n",
      "4\n",
      "5\n",
      "6\n",
      "7\n",
      "8\n",
      "9\n",
      "10\n"
     ]
    }
   ],
   "source": [
    "for j in a\n",
    "    println(j)\n",
    "end"
   ]
  },
  {
   "cell_type": "code",
   "execution_count": 99,
   "metadata": {
    "collapsed": false
   },
   "outputs": [
    {
     "name": "stdout",
     "output_type": "stream",
     "text": [
      "1\n",
      "2\n",
      "3\n",
      "4\n",
      "5\n",
      "6\n",
      "7\n",
      "8\n",
      "9\n",
      "10\n"
     ]
    }
   ],
   "source": [
    "for hola in a\n",
    "    println(hola)\n",
    "end"
   ]
  },
  {
   "cell_type": "markdown",
   "metadata": {},
   "source": [
    "## Tuples"
   ]
  },
  {
   "cell_type": "code",
   "execution_count": 101,
   "metadata": {
    "collapsed": false
   },
   "outputs": [
    {
     "data": {
      "text/plain": [
       "(1,3)"
      ]
     },
     "execution_count": 101,
     "metadata": {},
     "output_type": "execute_result"
    }
   ],
   "source": [
    "a = (1, 3)"
   ]
  },
  {
   "cell_type": "code",
   "execution_count": 103,
   "metadata": {
    "collapsed": false
   },
   "outputs": [
    {
     "data": {
      "text/plain": [
       "Tuple{Int64,Int64}"
      ]
     },
     "execution_count": 103,
     "metadata": {},
     "output_type": "execute_result"
    }
   ],
   "source": [
    "typeof(a)"
   ]
  },
  {
   "cell_type": "code",
   "execution_count": 104,
   "metadata": {
    "collapsed": false
   },
   "outputs": [
    {
     "data": {
      "text/plain": [
       "2-element Array{Int64,1}:\n",
       " 1\n",
       " 3"
      ]
     },
     "execution_count": 104,
     "metadata": {},
     "output_type": "execute_result"
    }
   ],
   "source": [
    "b = [1, 3]"
   ]
  },
  {
   "cell_type": "code",
   "execution_count": 105,
   "metadata": {
    "collapsed": false
   },
   "outputs": [
    {
     "data": {
      "text/plain": [
       "Array{Int64,1}"
      ]
     },
     "execution_count": 105,
     "metadata": {},
     "output_type": "execute_result"
    }
   ],
   "source": [
    "typeof(b)"
   ]
  },
  {
   "cell_type": "markdown",
   "metadata": {},
   "source": [
    "\n",
    "## Conditionals"
   ]
  },
  {
   "cell_type": "markdown",
   "metadata": {},
   "source": [
    "## Matrices and vectors"
   ]
  },
  {
   "cell_type": "code",
   "execution_count": 2,
   "metadata": {
    "collapsed": false
   },
   "outputs": [
    {
     "data": {
      "text/plain": [
       "1-element Array{Int64,1}:\n",
       " 1"
      ]
     },
     "execution_count": 2,
     "metadata": {},
     "output_type": "execute_result"
    }
   ],
   "source": [
    "v = [1]"
   ]
  },
  {
   "cell_type": "code",
   "execution_count": 3,
   "metadata": {
    "collapsed": false
   },
   "outputs": [
    {
     "ename": "LoadError",
     "evalue": "LoadError: InexactError()\nwhile loading In[3], in expression starting on line 1",
     "output_type": "error",
     "traceback": [
      "LoadError: InexactError()\nwhile loading In[3], in expression starting on line 1",
      "",
      " in push!(::Array{Int64,1}, ::Float64) at ./array.jl:456",
      " [inlined code] from ./int.jl:33",
      " in include_string(::String, ::String) at ./loading.jl:380"
     ]
    }
   ],
   "source": [
    "push!(v,3.5)"
   ]
  },
  {
   "cell_type": "code",
   "execution_count": 4,
   "metadata": {
    "collapsed": false
   },
   "outputs": [],
   "source": [
    "w = Any[]"
   ]
  },
  {
   "cell_type": "code",
   "execution_count": 5,
   "metadata": {
    "collapsed": false
   },
   "outputs": [],
   "source": [
    "k = Float64[]"
   ]
  },
  {
   "cell_type": "code",
   "execution_count": 6,
   "metadata": {
    "collapsed": false
   },
   "outputs": [
    {
     "data": {
      "text/plain": [
       "3-element Array{Float64,1}:\n",
       " 6.90291e-310\n",
       " 6.90291e-310\n",
       " 6.90291e-310"
      ]
     },
     "execution_count": 6,
     "metadata": {},
     "output_type": "execute_result"
    }
   ],
   "source": [
    "b = Array{Float64,1}(3)"
   ]
  },
  {
   "cell_type": "code",
   "execution_count": 11,
   "metadata": {
    "collapsed": false
   },
   "outputs": [
    {
     "data": {
      "text/plain": [
       "1-element Array{Any,1}:\n",
       " 4.0"
      ]
     },
     "execution_count": 11,
     "metadata": {},
     "output_type": "execute_result"
    }
   ],
   "source": [
    "push!(w,4.0)"
   ]
  },
  {
   "cell_type": "code",
   "execution_count": 14,
   "metadata": {
    "collapsed": false
   },
   "outputs": [
    {
     "data": {
      "text/plain": [
       "2-element Array{Any,1}:\n",
       " 4.0\n",
       " 5  "
      ]
     },
     "execution_count": 14,
     "metadata": {},
     "output_type": "execute_result"
    }
   ],
   "source": [
    "push!(w,5)"
   ]
  },
  {
   "cell_type": "code",
   "execution_count": 16,
   "metadata": {
    "collapsed": false
   },
   "outputs": [
    {
     "data": {
      "text/plain": [
       "2-element Array{Any,1}:\n",
       " 4.0\n",
       " 5  "
      ]
     },
     "execution_count": 16,
     "metadata": {},
     "output_type": "execute_result"
    }
   ],
   "source": [
    "a = w"
   ]
  },
  {
   "cell_type": "code",
   "execution_count": 17,
   "metadata": {
    "collapsed": false
   },
   "outputs": [
    {
     "data": {
      "text/plain": [
       "3-element Array{Any,1}:\n",
       " 4.0    \n",
       " 5      \n",
       "  \"hola\""
      ]
     },
     "execution_count": 17,
     "metadata": {},
     "output_type": "execute_result"
    }
   ],
   "source": [
    "push!(w, \"hola\")"
   ]
  },
  {
   "cell_type": "code",
   "execution_count": 20,
   "metadata": {
    "collapsed": false
   },
   "outputs": [
    {
     "data": {
      "text/plain": [
       "3-element Array{Any,1}:\n",
       " 4.0    \n",
       " 5      \n",
       "  \"hola\""
      ]
     },
     "execution_count": 20,
     "metadata": {},
     "output_type": "execute_result"
    }
   ],
   "source": [
    "a"
   ]
  },
  {
   "cell_type": "code",
   "execution_count": 27,
   "metadata": {
    "collapsed": false
   },
   "outputs": [
    {
     "data": {
      "text/plain": [
       "10-element Array{Float64,1}:\n",
       " 0.0\n",
       " 0.0\n",
       " 0.0\n",
       " 0.0\n",
       " 0.0\n",
       " 0.0\n",
       " 0.0\n",
       " 0.0\n",
       " 0.0\n",
       " 0.0"
      ]
     },
     "execution_count": 27,
     "metadata": {},
     "output_type": "execute_result"
    }
   ],
   "source": [
    "Vector{Float64}(10)"
   ]
  },
  {
   "cell_type": "code",
   "execution_count": 28,
   "metadata": {
    "collapsed": false
   },
   "outputs": [
    {
     "data": {
      "text/plain": [
       "10-element Array{Any,1}:\n",
       " #undef\n",
       " #undef\n",
       " #undef\n",
       " #undef\n",
       " #undef\n",
       " #undef\n",
       " #undef\n",
       " #undef\n",
       " #undef\n",
       " #undef"
      ]
     },
     "execution_count": 28,
     "metadata": {},
     "output_type": "execute_result"
    }
   ],
   "source": [
    "Vector(10)"
   ]
  },
  {
   "cell_type": "code",
   "execution_count": 108,
   "metadata": {
    "collapsed": false
   },
   "outputs": [
    {
     "data": {
      "text/plain": [
       "10-element Array{Int64,1}:\n",
       " 78\n",
       " 15\n",
       " 25\n",
       " 69\n",
       " 47\n",
       " 58\n",
       " 25\n",
       " 31\n",
       " 45\n",
       " 72"
      ]
     },
     "execution_count": 108,
     "metadata": {},
     "output_type": "execute_result"
    }
   ],
   "source": [
    "b = [78, 15, 25 ,69, 47, 58, 25 ,31, 45, 72]"
   ]
  },
  {
   "cell_type": "code",
   "execution_count": 111,
   "metadata": {
    "collapsed": false
   },
   "outputs": [
    {
     "data": {
      "text/plain": [
       "10-element Array{Int64,1}:\n",
       " 15\n",
       " 25\n",
       " 25\n",
       " 31\n",
       " 45\n",
       " 47\n",
       " 58\n",
       " 69\n",
       " 72\n",
       " 78"
      ]
     },
     "execution_count": 111,
     "metadata": {},
     "output_type": "execute_result"
    }
   ],
   "source": [
    "c = sort(b)"
   ]
  },
  {
   "cell_type": "code",
   "execution_count": 113,
   "metadata": {
    "collapsed": false
   },
   "outputs": [
    {
     "data": {
      "text/plain": [
       "false"
      ]
     },
     "execution_count": 113,
     "metadata": {},
     "output_type": "execute_result"
    }
   ],
   "source": [
    "c == b"
   ]
  },
  {
   "cell_type": "code",
   "execution_count": 114,
   "metadata": {
    "collapsed": false
   },
   "outputs": [
    {
     "data": {
      "text/plain": [
       "10-element Array{Int64,1}:\n",
       " 15\n",
       " 25\n",
       " 25\n",
       " 31\n",
       " 45\n",
       " 47\n",
       " 58\n",
       " 69\n",
       " 72\n",
       " 78"
      ]
     },
     "execution_count": 114,
     "metadata": {},
     "output_type": "execute_result"
    }
   ],
   "source": [
    "sort!(b)"
   ]
  },
  {
   "cell_type": "code",
   "execution_count": 115,
   "metadata": {
    "collapsed": false
   },
   "outputs": [
    {
     "data": {
      "text/plain": [
       "true"
      ]
     },
     "execution_count": 115,
     "metadata": {},
     "output_type": "execute_result"
    }
   ],
   "source": [
    "c == b"
   ]
  },
  {
   "cell_type": "code",
   "execution_count": 125,
   "metadata": {
    "collapsed": false
   },
   "outputs": [
    {
     "name": "stdout",
     "output_type": "stream",
     "text": [
      "search: "
     ]
    },
    {
     "data": {
      "text/latex": [
       "\\begin{verbatim}\n",
       "push!(collection, items...) -> collection\n",
       "\\end{verbatim}\n",
       "Insert one or more \\texttt{items} at the end of \\texttt{collection}.\n",
       "\\begin{verbatim}\n",
       "julia> push!([1, 2, 3], 4, 5, 6)\n",
       "6-element Array{Int64,1}:\n",
       " 1\n",
       " 2\n",
       " 3\n",
       " 4\n",
       " 5\n",
       " 6\n",
       "\\end{verbatim}\n",
       "Use \\href{:func:`append!`}{\\texttt{append!}} to add all the elements of another collection to \\texttt{collection}. The result of the preceding example is equivalent to \\texttt{append!([1, 2, 3], [4, 5, 6])}.\n"
      ],
      "text/markdown": [
       "```\n",
       "push!(collection, items...) -> collection\n",
       "```\n",
       "\n",
       "Insert one or more `items` at the end of `collection`.\n",
       "\n",
       "```jldoctest\n",
       "julia> push!([1, 2, 3], 4, 5, 6)\n",
       "6-element Array{Int64,1}:\n",
       " 1\n",
       " 2\n",
       " 3\n",
       " 4\n",
       " 5\n",
       " 6\n",
       "```\n",
       "\n",
       "Use [`append!`](:func:`append!`) to add all the elements of another collection to `collection`. The result of the preceding example is equivalent to `append!([1, 2, 3], [4, 5, 6])`.\n"
      ],
      "text/plain": [
       "```\n",
       "push!(collection, items...) -> collection\n",
       "```\n",
       "\n",
       "Insert one or more `items` at the end of `collection`.\n",
       "\n",
       "```jldoctest\n",
       "julia> push!([1, 2, 3], 4, 5, 6)\n",
       "6-element Array{Int64,1}:\n",
       " 1\n",
       " 2\n",
       " 3\n",
       " 4\n",
       " 5\n",
       " 6\n",
       "```\n",
       "\n",
       "Use [`append!`](:func:`append!`) to add all the elements of another collection to `collection`. The result of the preceding example is equivalent to `append!([1, 2, 3], [4, 5, 6])`.\n"
      ]
     },
     "execution_count": 125,
     "metadata": {},
     "output_type": "execute_result"
    },
    {
     "name": "stdout",
     "output_type": "stream",
     "text": [
      "push! pushdisplay\n",
      "\n"
     ]
    }
   ],
   "source": [
    "? push!"
   ]
  },
  {
   "cell_type": "code",
   "execution_count": 124,
   "metadata": {
    "collapsed": false
   },
   "outputs": [
    {
     "name": "stdout",
     "output_type": "stream",
     "text": [
      "search: "
     ]
    },
    {
     "data": {
      "text/latex": [
       "\\begin{verbatim}\n",
       "append!(collection, collection2) -> collection.\n",
       "\\end{verbatim}\n",
       "Add the elements of \\texttt{collection2} to the end of \\texttt{collection}.\n",
       "\\begin{verbatim}\n",
       "julia> append!([1],[2,3])\n",
       "3-element Array{Int64,1}:\n",
       " 1\n",
       " 2\n",
       " 3\n",
       "\\end{verbatim}\n",
       "\\begin{verbatim}\n",
       "julia> append!([1, 2, 3], [4, 5, 6])\n",
       "6-element Array{Int64,1}:\n",
       " 1\n",
       " 2\n",
       " 3\n",
       " 4\n",
       " 5\n",
       " 6\n",
       "\\end{verbatim}\n",
       "Use \\href{:func:`push!`}{\\texttt{push!}} to add individual items to \\texttt{collection} which are not already themselves in another collection. The result is of the preceding example is equivalent to \\texttt{push!([1, 2, 3], 4, 5, 6)}.\n"
      ],
      "text/markdown": [
       "```\n",
       "append!(collection, collection2) -> collection.\n",
       "```\n",
       "\n",
       "Add the elements of `collection2` to the end of `collection`.\n",
       "\n",
       "```jldoctest\n",
       "julia> append!([1],[2,3])\n",
       "3-element Array{Int64,1}:\n",
       " 1\n",
       " 2\n",
       " 3\n",
       "```\n",
       "\n",
       "```jldoctest\n",
       "julia> append!([1, 2, 3], [4, 5, 6])\n",
       "6-element Array{Int64,1}:\n",
       " 1\n",
       " 2\n",
       " 3\n",
       " 4\n",
       " 5\n",
       " 6\n",
       "```\n",
       "\n",
       "Use [`push!`](:func:`push!`) to add individual items to `collection` which are not already themselves in another collection. The result is of the preceding example is equivalent to `push!([1, 2, 3], 4, 5, 6)`.\n"
      ],
      "text/plain": [
       "```\n",
       "append!(collection, collection2) -> collection.\n",
       "```\n",
       "\n",
       "Add the elements of `collection2` to the end of `collection`.\n",
       "\n",
       "```jldoctest\n",
       "julia> append!([1],[2,3])\n",
       "3-element Array{Int64,1}:\n",
       " 1\n",
       " 2\n",
       " 3\n",
       "```\n",
       "\n",
       "```jldoctest\n",
       "julia> append!([1, 2, 3], [4, 5, 6])\n",
       "6-element Array{Int64,1}:\n",
       " 1\n",
       " 2\n",
       " 3\n",
       " 4\n",
       " 5\n",
       " 6\n",
       "```\n",
       "\n",
       "Use [`push!`](:func:`push!`) to add individual items to `collection` which are not already themselves in another collection. The result is of the preceding example is equivalent to `push!([1, 2, 3], 4, 5, 6)`.\n"
      ]
     },
     "execution_count": 124,
     "metadata": {},
     "output_type": "execute_result"
    },
    {
     "name": "stdout",
     "output_type": "stream",
     "text": [
      "append!\n",
      "\n"
     ]
    }
   ],
   "source": [
    "? append!"
   ]
  },
  {
   "cell_type": "code",
   "execution_count": 127,
   "metadata": {
    "collapsed": false
   },
   "outputs": [
    {
     "data": {
      "text/plain": [
       "3-element Array{Int64,1}:\n",
       " 1\n",
       " 2\n",
       " 3"
      ]
     },
     "execution_count": 127,
     "metadata": {},
     "output_type": "execute_result"
    }
   ],
   "source": [
    "a = [1,2,3]"
   ]
  },
  {
   "cell_type": "code",
   "execution_count": 128,
   "metadata": {
    "collapsed": false
   },
   "outputs": [
    {
     "data": {
      "text/plain": [
       "3-element Array{Int64,1}:\n",
       " 1\n",
       " 2\n",
       " 3"
      ]
     },
     "execution_count": 128,
     "metadata": {},
     "output_type": "execute_result"
    }
   ],
   "source": [
    "b = copy(a)"
   ]
  },
  {
   "cell_type": "code",
   "execution_count": 129,
   "metadata": {
    "collapsed": false
   },
   "outputs": [
    {
     "data": {
      "text/plain": [
       "5"
      ]
     },
     "execution_count": 129,
     "metadata": {},
     "output_type": "execute_result"
    }
   ],
   "source": [
    "a[3] = 5"
   ]
  },
  {
   "cell_type": "code",
   "execution_count": 132,
   "metadata": {
    "collapsed": false
   },
   "outputs": [
    {
     "data": {
      "text/plain": [
       "false"
      ]
     },
     "execution_count": 132,
     "metadata": {},
     "output_type": "execute_result"
    }
   ],
   "source": [
    "a == b"
   ]
  },
  {
   "cell_type": "code",
   "execution_count": 134,
   "metadata": {
    "collapsed": false
   },
   "outputs": [
    {
     "data": {
      "text/plain": [
       "Ptr{Int64} @0x00007f124ec215c0"
      ]
     },
     "execution_count": 134,
     "metadata": {},
     "output_type": "execute_result"
    }
   ],
   "source": [
    "pointer(a)"
   ]
  },
  {
   "cell_type": "markdown",
   "metadata": {},
   "source": [
    "## Functions\n"
   ]
  },
  {
   "cell_type": "code",
   "execution_count": 126,
   "metadata": {
    "collapsed": true
   },
   "outputs": [],
   "source": [
    "\n",
    "f(x) = 2*x"
   ]
  },
  {
   "cell_type": "code",
   "execution_count": 32,
   "metadata": {
    "collapsed": false
   },
   "outputs": [
    {
     "data": {
      "text/plain": [
       "g (generic function with 1 method)"
      ]
     },
     "execution_count": 32,
     "metadata": {},
     "output_type": "execute_result"
    }
   ],
   "source": [
    "g(x) = 2.0*x"
   ]
  },
  {
   "cell_type": "code",
   "execution_count": 34,
   "metadata": {
    "collapsed": false
   },
   "outputs": [
    {
     "data": {
      "text/plain": [
       "(4,4.0)"
      ]
     },
     "execution_count": 34,
     "metadata": {},
     "output_type": "execute_result"
    }
   ],
   "source": [
    "f(2), g(2)"
   ]
  },
  {
   "cell_type": "code",
   "execution_count": 35,
   "metadata": {
    "collapsed": false
   },
   "outputs": [
    {
     "data": {
      "text/html": [
       "1 method for generic function <b>f</b>:<ul><li> f(x) at In[31]:1</li> </ul>"
      ],
      "text/plain": [
       "# 1 method for generic function \"f\":\n",
       "f(x) at In[31]:1"
      ]
     },
     "execution_count": 35,
     "metadata": {},
     "output_type": "execute_result"
    }
   ],
   "source": [
    "methods(f)"
   ]
  },
  {
   "cell_type": "code",
   "execution_count": 38,
   "metadata": {
    "collapsed": false
   },
   "outputs": [
    {
     "data": {
      "text/plain": [
       "8.0"
      ]
     },
     "execution_count": 38,
     "metadata": {},
     "output_type": "execute_result"
    }
   ],
   "source": [
    "2^3.0"
   ]
  },
  {
   "cell_type": "code",
   "execution_count": 39,
   "metadata": {
    "collapsed": false
   },
   "outputs": [
    {
     "data": {
      "text/html": [
       "25 methods for generic function <b>^</b>:<ul><li> ^(x::<b>Integer</b>, y::<b>Bool</b>) at <a href=\"https://github.com/JuliaLang/julia/tree/6882541e2f7e1604262215d50ad27cf5c5e5d4f7/base/bool.jl#L40\" target=\"_blank\">bool.jl:40</a></li> <li> ^<i>{T<:AbstractFloat}</i>(z::<b>Complex{T}</b>, p::<b>Complex{T}</b>) at <a href=\"https://github.com/JuliaLang/julia/tree/6882541e2f7e1604262215d50ad27cf5c5e5d4f7/base/complex.jl#L461\" target=\"_blank\">complex.jl:461</a></li> <li> ^<i>{T<:Complex{T<:Real}}</i>(z::<b>T</b>, p::<b>T</b>) at <a href=\"https://github.com/JuliaLang/julia/tree/6882541e2f7e1604262215d50ad27cf5c5e5d4f7/base/complex.jl#L508\" target=\"_blank\">complex.jl:508</a></li> <li> ^<i>{T<:AbstractFloat}</i>(z::<b>Complex{T}</b>, n::<b>Bool</b>) at <a href=\"https://github.com/JuliaLang/julia/tree/6882541e2f7e1604262215d50ad27cf5c5e5d4f7/base/complex.jl#L568\" target=\"_blank\">complex.jl:568</a></li> <li> ^<i>{T<:Integer}</i>(z::<b>Complex{T}</b>, n::<b>Bool</b>) at <a href=\"https://github.com/JuliaLang/julia/tree/6882541e2f7e1604262215d50ad27cf5c5e5d4f7/base/complex.jl#L569\" target=\"_blank\">complex.jl:569</a></li> <li> ^<i>{T<:Rational{T<:Integer}}</i>(z::<b>Complex{T}</b>, n::<b>Bool</b>) at <a href=\"https://github.com/JuliaLang/julia/tree/6882541e2f7e1604262215d50ad27cf5c5e5d4f7/base/rational.jl#L361\" target=\"_blank\">rational.jl:361</a></li> <li> ^(z::<b>Complex</b>, n::<b>Bool</b>) at <a href=\"https://github.com/JuliaLang/julia/tree/6882541e2f7e1604262215d50ad27cf5c5e5d4f7/base/complex.jl#L565\" target=\"_blank\">complex.jl:565</a></li> <li> ^<i>{T<:AbstractFloat}</i>(z::<b>Complex{T}</b>, n::<b>Integer</b>) at <a href=\"https://github.com/JuliaLang/julia/tree/6882541e2f7e1604262215d50ad27cf5c5e5d4f7/base/complex.jl#L571\" target=\"_blank\">complex.jl:571</a></li> <li> ^<i>{T<:Integer}</i>(z::<b>Complex{T}</b>, n::<b>Integer</b>) at <a href=\"https://github.com/JuliaLang/julia/tree/6882541e2f7e1604262215d50ad27cf5c5e5d4f7/base/complex.jl#L573\" target=\"_blank\">complex.jl:573</a></li> <li> ^<i>{T<:Rational{T<:Integer}}</i>(z::<b>Complex{T}</b>, n::<b>Integer</b>) at <a href=\"https://github.com/JuliaLang/julia/tree/6882541e2f7e1604262215d50ad27cf5c5e5d4f7/base/rational.jl#L363\" target=\"_blank\">rational.jl:363</a></li> <li> ^(z::<b>Complex</b>, n::<b>Integer</b>) at <a href=\"https://github.com/JuliaLang/julia/tree/6882541e2f7e1604262215d50ad27cf5c5e5d4f7/base/complex.jl#L566\" target=\"_blank\">complex.jl:566</a></li> <li> ^(x::<b>Rational</b>, n::<b>Integer</b>) at <a href=\"https://github.com/JuliaLang/julia/tree/6882541e2f7e1604262215d50ad27cf5c5e5d4f7/base/rational.jl#L354\" target=\"_blank\">rational.jl:354</a></li> <li> ^<i>{T<:AbstractFloat}</i>(x::<b>T</b>, y::<b>Rational</b>) at <a href=\"https://github.com/JuliaLang/julia/tree/6882541e2f7e1604262215d50ad27cf5c5e5d4f7/base/rational.jl#L358\" target=\"_blank\">rational.jl:358</a></li> <li> ^<i>{T<:AbstractFloat}</i>(x::<b>Complex{T}</b>, y::<b>Rational</b>) at <a href=\"https://github.com/JuliaLang/julia/tree/6882541e2f7e1604262215d50ad27cf5c5e5d4f7/base/rational.jl#L359\" target=\"_blank\">rational.jl:359</a></li> <li> ^(x::<b>Number</b>, y::<b>Rational</b>) at <a href=\"https://github.com/JuliaLang/julia/tree/6882541e2f7e1604262215d50ad27cf5c5e5d4f7/base/rational.jl#L357\" target=\"_blank\">rational.jl:357</a></li> <li> ^(x::<b>Integer</b>, y::<b>BigInt</b>) at <a href=\"https://github.com/JuliaLang/julia/tree/6882541e2f7e1604262215d50ad27cf5c5e5d4f7/base/gmp.jl#L431\" target=\"_blank\">gmp.jl:431</a></li> <li> ^<i>{T<:Integer}</i>(x::<b>T</b>, p::<b>T</b>) at <a href=\"https://github.com/JuliaLang/julia/tree/6882541e2f7e1604262215d50ad27cf5c5e5d4f7/base/intfuncs.jl#L109\" target=\"_blank\">intfuncs.jl:109</a></li> <li> ^(x::<b>Number</b>, p::<b>Integer</b>) at <a href=\"https://github.com/JuliaLang/julia/tree/6882541e2f7e1604262215d50ad27cf5c5e5d4f7/base/intfuncs.jl#L110\" target=\"_blank\">intfuncs.jl:110</a></li> <li> ^(x::<b>Irrational</b>, y::<b>Irrational</b>) at <a href=\"https://github.com/JuliaLang/julia/tree/6882541e2f7e1604262215d50ad27cf5c5e5d4f7/base/irrationals.jl#L72\" target=\"_blank\">irrationals.jl:72</a></li> <li> ^<i>{T<:Number}</i>(x::<b>T</b>, y::<b>T</b>) at <a href=\"https://github.com/JuliaLang/julia/tree/6882541e2f7e1604262215d50ad27cf5c5e5d4f7/base/promotion.jl#L238\" target=\"_blank\">promotion.jl:238</a></li> <li> ^(x::<b>Number</b>, y::<b>Number</b>) at <a href=\"https://github.com/JuliaLang/julia/tree/6882541e2f7e1604262215d50ad27cf5c5e5d4f7/base/promotion.jl#L194\" target=\"_blank\">promotion.jl:194</a></li> <li> ^(s::<b>AbstractString</b>, r::<b>Integer</b>) at <a href=\"https://github.com/JuliaLang/julia/tree/6882541e2f7e1604262215d50ad27cf5c5e5d4f7/base/strings/types.jl#L178\" target=\"_blank\">strings/types.jl:178</a></li> <li> ^(A::<b>Array{T<:Any,2}</b>, p::<b>Integer</b>) at <a href=\"https://github.com/JuliaLang/julia/tree/6882541e2f7e1604262215d50ad27cf5c5e5d4f7/base/linalg/dense.jl#L172\" target=\"_blank\">linalg/dense.jl:172</a></li> <li> ^(A::<b>Array{T<:Any,2}</b>, p::<b>Number</b>) at <a href=\"https://github.com/JuliaLang/julia/tree/6882541e2f7e1604262215d50ad27cf5c5e5d4f7/base/linalg/dense.jl#L175\" target=\"_blank\">linalg/dense.jl:175</a></li> <li> ^(x, p::<b>Integer</b>) at <a href=\"https://github.com/JuliaLang/julia/tree/6882541e2f7e1604262215d50ad27cf5c5e5d4f7/base/intfuncs.jl#L111\" target=\"_blank\">intfuncs.jl:111</a></li> </ul>"
      ],
      "text/plain": [
       "# 25 methods for generic function \"^\":\n",
       "^(x::Integer, y::Bool) at bool.jl:40\n",
       "^{T<:AbstractFloat}(z::Complex{T}, p::Complex{T}) at complex.jl:461\n",
       "^{T<:Complex{T<:Real}}(z::T, p::T) at complex.jl:508\n",
       "^{T<:AbstractFloat}(z::Complex{T}, n::Bool) at complex.jl:568\n",
       "^{T<:Integer}(z::Complex{T}, n::Bool) at complex.jl:569\n",
       "^{T<:Rational{T<:Integer}}(z::Complex{T}, n::Bool) at rational.jl:361\n",
       "^(z::Complex, n::Bool) at complex.jl:565\n",
       "^{T<:AbstractFloat}(z::Complex{T}, n::Integer) at complex.jl:571\n",
       "^{T<:Integer}(z::Complex{T}, n::Integer) at complex.jl:573\n",
       "^{T<:Rational{T<:Integer}}(z::Complex{T}, n::Integer) at rational.jl:363\n",
       "^(z::Complex, n::Integer) at complex.jl:566\n",
       "^(x::Rational, n::Integer) at rational.jl:354\n",
       "^{T<:AbstractFloat}(x::T, y::Rational) at rational.jl:358\n",
       "^{T<:AbstractFloat}(x::Complex{T}, y::Rational) at rational.jl:359\n",
       "^(x::Number, y::Rational) at rational.jl:357\n",
       "^(x::Integer, y::BigInt) at gmp.jl:431\n",
       "^{T<:Integer}(x::T, p::T) at intfuncs.jl:109\n",
       "^(x::Number, p::Integer) at intfuncs.jl:110\n",
       "^(x::Irrational, y::Irrational) at irrationals.jl:72\n",
       "^{T<:Number}(x::T, y::T) at promotion.jl:238\n",
       "^(x::Number, y::Number) at promotion.jl:194\n",
       "^(s::AbstractString, r::Integer) at strings/types.jl:178\n",
       "^(A::Array{T<:Any,2}, p::Integer) at linalg/dense.jl:172\n",
       "^(A::Array{T<:Any,2}, p::Number) at linalg/dense.jl:175\n",
       "^(x, p::Integer) at intfuncs.jl:111"
      ]
     },
     "execution_count": 39,
     "metadata": {},
     "output_type": "execute_result"
    }
   ],
   "source": [
    "methods(^)"
   ]
  },
  {
   "cell_type": "code",
   "execution_count": 40,
   "metadata": {
    "collapsed": false
   },
   "outputs": [
    {
     "data": {
      "text/html": [
       "^(x::<b>Number</b>, y::<b>Number</b>) at <a href=\"https://github.com/JuliaLang/julia/tree/6882541e2f7e1604262215d50ad27cf5c5e5d4f7/base/promotion.jl#L194\" target=\"_blank\">promotion.jl:194</a>"
      ],
      "text/plain": [
       "^(x::Number, y::Number) at promotion.jl:194"
      ]
     },
     "execution_count": 40,
     "metadata": {},
     "output_type": "execute_result"
    }
   ],
   "source": [
    "@which 2^3.0"
   ]
  },
  {
   "cell_type": "markdown",
   "metadata": {},
   "source": [
    "## Macros"
   ]
  },
  {
   "cell_type": "code",
   "execution_count": null,
   "metadata": {
    "collapsed": true
   },
   "outputs": [],
   "source": []
  }
 ],
 "metadata": {
  "kernelspec": {
   "display_name": "Julia 0.4.2",
   "language": "julia",
   "name": "julia-0.4"
  },
  "language_info": {
   "file_extension": ".jl",
   "mimetype": "application/julia",
   "name": "julia",
   "version": "0.5.0"
  }
 },
 "nbformat": 4,
 "nbformat_minor": 0
}
