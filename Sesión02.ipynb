{
 "cells": [
  {
   "cell_type": "markdown",
   "metadata": {},
   "source": [
    "## Matrices and vectors"
   ]
  },
  {
   "cell_type": "code",
   "execution_count": 36,
   "metadata": {
    "collapsed": false
   },
   "outputs": [
    {
     "data": {
      "text/plain": [
       "1-element Array{Int64,1}:\n",
       " 1"
      ]
     },
     "execution_count": 36,
     "metadata": {},
     "output_type": "execute_result"
    }
   ],
   "source": [
    "v = [1]"
   ]
  },
  {
   "cell_type": "code",
   "execution_count": 37,
   "metadata": {
    "collapsed": false
   },
   "outputs": [
    {
     "ename": "LoadError",
     "evalue": "LoadError: MethodError: `convert` has no method matching convert(::Type{Int64}, ::ASCIIString)\nThis may have arisen from a call to the constructor Int64(...),\nsince type constructors fall back to convert methods.\nClosest candidates are:\n  call{T}(::Type{T}, ::Any)\n  convert(::Type{Int64}, !Matched::Int8)\n  convert(::Type{Int64}, !Matched::UInt8)\n  ...\nwhile loading In[37], in expression starting on line 1",
     "output_type": "error",
     "traceback": [
      "LoadError: MethodError: `convert` has no method matching convert(::Type{Int64}, ::ASCIIString)\nThis may have arisen from a call to the constructor Int64(...),\nsince type constructors fall back to convert methods.\nClosest candidates are:\n  call{T}(::Type{T}, ::Any)\n  convert(::Type{Int64}, !Matched::Int8)\n  convert(::Type{Int64}, !Matched::UInt8)\n  ...\nwhile loading In[37], in expression starting on line 1",
      "",
      " in push! at array.jl:432"
     ]
    }
   ],
   "source": [
    "push!(v,\"bla\")"
   ]
  },
  {
   "cell_type": "code",
   "execution_count": 38,
   "metadata": {
    "collapsed": false
   },
   "outputs": [
    {
     "data": {
      "text/plain": [
       "0-element Array{Any,1}"
      ]
     },
     "execution_count": 38,
     "metadata": {},
     "output_type": "execute_result"
    }
   ],
   "source": [
    "w = Any[]"
   ]
  },
  {
   "cell_type": "code",
   "execution_count": 39,
   "metadata": {
    "collapsed": false
   },
   "outputs": [
    {
     "data": {
      "text/plain": [
       "0-element Array{Float64,1}"
      ]
     },
     "execution_count": 39,
     "metadata": {},
     "output_type": "execute_result"
    }
   ],
   "source": [
    "k = Float64[]"
   ]
  },
  {
   "cell_type": "code",
   "execution_count": 40,
   "metadata": {
    "collapsed": false
   },
   "outputs": [
    {
     "data": {
      "text/plain": [
       "3-element Array{Float64,1}:\n",
       " 6.94945e-310\n",
       " 6.94945e-310\n",
       " 6.94945e-310"
      ]
     },
     "execution_count": 40,
     "metadata": {},
     "output_type": "execute_result"
    }
   ],
   "source": [
    "b = Array{Float64,1}(3)"
   ]
  },
  {
   "cell_type": "code",
   "execution_count": 41,
   "metadata": {
    "collapsed": false
   },
   "outputs": [
    {
     "data": {
      "text/plain": [
       "1-element Array{Any,1}:\n",
       " 4.0"
      ]
     },
     "execution_count": 41,
     "metadata": {},
     "output_type": "execute_result"
    }
   ],
   "source": [
    "push!(w,4.0)"
   ]
  },
  {
   "cell_type": "code",
   "execution_count": 42,
   "metadata": {
    "collapsed": false
   },
   "outputs": [
    {
     "data": {
      "text/plain": [
       "2-element Array{Any,1}:\n",
       " 4.0\n",
       " 5  "
      ]
     },
     "execution_count": 42,
     "metadata": {},
     "output_type": "execute_result"
    }
   ],
   "source": [
    "push!(w,5)"
   ]
  },
  {
   "cell_type": "code",
   "execution_count": 43,
   "metadata": {
    "collapsed": false
   },
   "outputs": [
    {
     "name": "stdout",
     "output_type": "stream",
     "text": [
      "search: push! pushdisplay\n",
      "\n"
     ]
    },
    {
     "data": {
      "text/latex": [
       "\\begin{verbatim}\n",
       "..  push!(collection, items...) -> collection\n",
       "\n",
       "Insert one or more ``items`` at the end of ``collection``.\n",
       "\n",
       ".. doctest::\n",
       "\n",
       "  julia> push!([1, 2, 3], 4, 5, 6)\n",
       "  6-element Array{Int64,1}:\n",
       "   1\n",
       "   2\n",
       "   3\n",
       "   4\n",
       "   5\n",
       "   6\n",
       "\n",
       "Use :func:`append!` to add all the elements of another collection to\n",
       "``collection``.\n",
       "The result of the preceding example is equivalent to\n",
       "``append!([1, 2, 3], [4, 5, 6])``.\n",
       "\\end{verbatim}\n"
      ],
      "text/markdown": [
       "```rst\n",
       "..  push!(collection, items...) -> collection\n",
       "\n",
       "Insert one or more ``items`` at the end of ``collection``.\n",
       "\n",
       ".. doctest::\n",
       "\n",
       "  julia> push!([1, 2, 3], 4, 5, 6)\n",
       "  6-element Array{Int64,1}:\n",
       "   1\n",
       "   2\n",
       "   3\n",
       "   4\n",
       "   5\n",
       "   6\n",
       "\n",
       "Use :func:`append!` to add all the elements of another collection to\n",
       "``collection``.\n",
       "The result of the preceding example is equivalent to\n",
       "``append!([1, 2, 3], [4, 5, 6])``.\n",
       "```\n"
      ],
      "text/plain": [
       "```rst\n",
       "..  push!(collection, items...) -> collection\n",
       "\n",
       "Insert one or more ``items`` at the end of ``collection``.\n",
       "\n",
       ".. doctest::\n",
       "\n",
       "  julia> push!([1, 2, 3], 4, 5, 6)\n",
       "  6-element Array{Int64,1}:\n",
       "   1\n",
       "   2\n",
       "   3\n",
       "   4\n",
       "   5\n",
       "   6\n",
       "\n",
       "Use :func:`append!` to add all the elements of another collection to\n",
       "``collection``.\n",
       "The result of the preceding example is equivalent to\n",
       "``append!([1, 2, 3], [4, 5, 6])``.\n",
       "```\n"
      ]
     },
     "execution_count": 43,
     "metadata": {},
     "output_type": "execute_result"
    }
   ],
   "source": [
    "?push!"
   ]
  },
  {
   "cell_type": "code",
   "execution_count": 44,
   "metadata": {
    "collapsed": false
   },
   "outputs": [
    {
     "data": {
      "text/plain": [
       "2-element Array{Any,1}:\n",
       " 4.0\n",
       " 5  "
      ]
     },
     "execution_count": 44,
     "metadata": {},
     "output_type": "execute_result"
    }
   ],
   "source": [
    "a = w"
   ]
  },
  {
   "cell_type": "code",
   "execution_count": 45,
   "metadata": {
    "collapsed": false
   },
   "outputs": [
    {
     "data": {
      "text/plain": [
       "3-element Array{Any,1}:\n",
       " 4.0    \n",
       " 5      \n",
       "  \"hola\""
      ]
     },
     "execution_count": 45,
     "metadata": {},
     "output_type": "execute_result"
    }
   ],
   "source": [
    "push!(w, \"hola\")"
   ]
  },
  {
   "cell_type": "code",
   "execution_count": 46,
   "metadata": {
    "collapsed": false
   },
   "outputs": [
    {
     "data": {
      "text/plain": [
       "3-element Array{Any,1}:\n",
       " 4.0    \n",
       " 5      \n",
       "  \"hola\""
      ]
     },
     "execution_count": 46,
     "metadata": {},
     "output_type": "execute_result"
    }
   ],
   "source": [
    "a"
   ]
  },
  {
   "cell_type": "code",
   "execution_count": 47,
   "metadata": {
    "collapsed": false
   },
   "outputs": [
    {
     "data": {
      "text/plain": [
       "10-element Array{Float64,1}:\n",
       " 1.12856e277 \n",
       " 6.32673e180 \n",
       " 3.77717e233 \n",
       " 5.04621e180 \n",
       " 8.37171e-144\n",
       " 3.80985e180 \n",
       " 9.30351e199 \n",
       " 1.30439e-76 \n",
       " 9.30537e199 \n",
       " 1.99653e30  "
      ]
     },
     "execution_count": 47,
     "metadata": {},
     "output_type": "execute_result"
    }
   ],
   "source": [
    "Vector{Float64}(10)"
   ]
  },
  {
   "cell_type": "code",
   "execution_count": 48,
   "metadata": {
    "collapsed": false
   },
   "outputs": [
    {
     "data": {
      "text/plain": [
       "10-element Array{Any,1}:\n",
       " #undef\n",
       " #undef\n",
       " #undef\n",
       " #undef\n",
       " #undef\n",
       " #undef\n",
       " #undef\n",
       " #undef\n",
       " #undef\n",
       " #undef"
      ]
     },
     "execution_count": 48,
     "metadata": {},
     "output_type": "execute_result"
    }
   ],
   "source": [
    "Vector(10)"
   ]
  },
  {
   "cell_type": "code",
   "execution_count": 49,
   "metadata": {
    "collapsed": false
   },
   "outputs": [
    {
     "data": {
      "text/plain": [
       "10-element Array{Int64,1}:\n",
       " 78\n",
       " 15\n",
       " 25\n",
       " 69\n",
       " 47\n",
       " 58\n",
       " 25\n",
       " 31\n",
       " 45\n",
       " 72"
      ]
     },
     "execution_count": 49,
     "metadata": {},
     "output_type": "execute_result"
    }
   ],
   "source": [
    "b = [78, 15, 25 ,69, 47, 58, 25 ,31, 45, 72]"
   ]
  },
  {
   "cell_type": "code",
   "execution_count": 50,
   "metadata": {
    "collapsed": false
   },
   "outputs": [
    {
     "data": {
      "text/plain": [
       "10-element Array{Int64,1}:\n",
       " 15\n",
       " 25\n",
       " 25\n",
       " 31\n",
       " 45\n",
       " 47\n",
       " 58\n",
       " 69\n",
       " 72\n",
       " 78"
      ]
     },
     "execution_count": 50,
     "metadata": {},
     "output_type": "execute_result"
    }
   ],
   "source": [
    "c = sort(b)"
   ]
  },
  {
   "cell_type": "code",
   "execution_count": 51,
   "metadata": {
    "collapsed": false
   },
   "outputs": [
    {
     "data": {
      "text/plain": [
       "false"
      ]
     },
     "execution_count": 51,
     "metadata": {},
     "output_type": "execute_result"
    }
   ],
   "source": [
    "c == b"
   ]
  },
  {
   "cell_type": "code",
   "execution_count": 52,
   "metadata": {
    "collapsed": false
   },
   "outputs": [
    {
     "data": {
      "text/plain": [
       "5"
      ]
     },
     "execution_count": 52,
     "metadata": {},
     "output_type": "execute_result"
    }
   ],
   "source": [
    "a[3] = 5"
   ]
  },
  {
   "cell_type": "code",
   "execution_count": 53,
   "metadata": {
    "collapsed": false
   },
   "outputs": [
    {
     "data": {
      "text/plain": [
       "false"
      ]
     },
     "execution_count": 53,
     "metadata": {},
     "output_type": "execute_result"
    }
   ],
   "source": [
    "a == b"
   ]
  },
  {
   "cell_type": "code",
   "execution_count": 54,
   "metadata": {
    "collapsed": false
   },
   "outputs": [
    {
     "data": {
      "text/plain": [
       "3-element Array{Any,1}:\n",
       " 4.0\n",
       " 5  \n",
       " 5  "
      ]
     },
     "execution_count": 54,
     "metadata": {},
     "output_type": "execute_result"
    }
   ],
   "source": [
    "d = copy(a)"
   ]
  },
  {
   "cell_type": "code",
   "execution_count": 55,
   "metadata": {
    "collapsed": false
   },
   "outputs": [
    {
     "data": {
      "text/plain": [
       "true"
      ]
     },
     "execution_count": 55,
     "metadata": {},
     "output_type": "execute_result"
    }
   ],
   "source": [
    "d == a"
   ]
  },
  {
   "cell_type": "code",
   "execution_count": 56,
   "metadata": {
    "collapsed": false
   },
   "outputs": [
    {
     "data": {
      "text/plain": [
       "false"
      ]
     },
     "execution_count": 56,
     "metadata": {},
     "output_type": "execute_result"
    }
   ],
   "source": [
    "d === a"
   ]
  },
  {
   "cell_type": "code",
   "execution_count": 91,
   "metadata": {
    "collapsed": false
   },
   "outputs": [
    {
     "name": "stdout",
     "output_type": "stream",
     "text": [
      "search: == === .== !==\n",
      "\n"
     ]
    },
    {
     "data": {
      "text/latex": [
       "\\begin{verbatim}\n",
       "==(x, y)\n",
       "\\end{verbatim}\n",
       "Generic equality operator, giving a single \\texttt{Bool} result. Falls back to \\texttt{===}. Should be implemented for all types with a notion of equality, based on the abstract value that an instance represents. For example, all numeric types are compared by numeric value, ignoring type. Strings are compared as sequences of characters, ignoring encoding.\n",
       "Follows IEEE semantics for floating-point numbers.\n",
       "Collections should generally implement \\texttt{==} by calling \\texttt{==} recursively on all contents.\n",
       "New numeric types should implement this function for two arguments of the new type, and handle comparison to other types via promotion rules where possible.\n"
      ],
      "text/markdown": [
       "```\n",
       "==(x, y)\n",
       "```\n",
       "\n",
       "Generic equality operator, giving a single `Bool` result. Falls back to `===`. Should be implemented for all types with a notion of equality, based on the abstract value that an instance represents. For example, all numeric types are compared by numeric value, ignoring type. Strings are compared as sequences of characters, ignoring encoding.\n",
       "\n",
       "Follows IEEE semantics for floating-point numbers.\n",
       "\n",
       "Collections should generally implement `==` by calling `==` recursively on all contents.\n",
       "\n",
       "New numeric types should implement this function for two arguments of the new type, and handle comparison to other types via promotion rules where possible.\n"
      ],
      "text/plain": [
       "```\n",
       "==(x, y)\n",
       "```\n",
       "\n",
       "Generic equality operator, giving a single `Bool` result. Falls back to `===`. Should be implemented for all types with a notion of equality, based on the abstract value that an instance represents. For example, all numeric types are compared by numeric value, ignoring type. Strings are compared as sequences of characters, ignoring encoding.\n",
       "\n",
       "Follows IEEE semantics for floating-point numbers.\n",
       "\n",
       "Collections should generally implement `==` by calling `==` recursively on all contents.\n",
       "\n",
       "New numeric types should implement this function for two arguments of the new type, and handle comparison to other types via promotion rules where possible.\n"
      ]
     },
     "execution_count": 91,
     "metadata": {},
     "output_type": "execute_result"
    }
   ],
   "source": [
    "?=="
   ]
  },
  {
   "cell_type": "code",
   "execution_count": 57,
   "metadata": {
    "collapsed": false
   },
   "outputs": [
    {
     "name": "stdout",
     "output_type": "stream",
     "text": [
      "search: === == .== !==\n",
      "\n"
     ]
    },
    {
     "data": {
      "text/latex": [
       "\\begin{verbatim}\n",
       "is(x, y) -> Bool\n",
       "===(x,y) -> Bool\n",
       "≡(x,y) -> Bool\n",
       "\\end{verbatim}\n",
       "Determine whether \\texttt{x} and \\texttt{y} are identical, in the sense that no program could distinguish them. Compares mutable objects by address in memory, and compares immutable objects (such as numbers) by contents at the bit level. This function is sometimes called \\texttt{egal}.\n",
       "\\begin{verbatim}\n",
       "..  ===(x, y)\n",
       "           ≡(x,y)\n",
       "\n",
       "See the :func:`is` operator\n",
       "\\end{verbatim}\n"
      ],
      "text/markdown": [
       "```\n",
       "is(x, y) -> Bool\n",
       "===(x,y) -> Bool\n",
       "≡(x,y) -> Bool\n",
       "```\n",
       "\n",
       "Determine whether `x` and `y` are identical, in the sense that no program could distinguish them. Compares mutable objects by address in memory, and compares immutable objects (such as numbers) by contents at the bit level. This function is sometimes called `egal`.\n",
       "\n",
       "```rst\n",
       "..  ===(x, y)\n",
       "           ≡(x,y)\n",
       "\n",
       "See the :func:`is` operator\n",
       "```\n"
      ],
      "text/plain": [
       "```\n",
       "is(x, y) -> Bool\n",
       "===(x,y) -> Bool\n",
       "≡(x,y) -> Bool\n",
       "```\n",
       "\n",
       "Determine whether `x` and `y` are identical, in the sense that no program could distinguish them. Compares mutable objects by address in memory, and compares immutable objects (such as numbers) by contents at the bit level. This function is sometimes called `egal`.\n",
       "\n",
       "```rst\n",
       "..  ===(x, y)\n",
       "           ≡(x,y)\n",
       "\n",
       "See the :func:`is` operator\n",
       "```\n"
      ]
     },
     "execution_count": 57,
     "metadata": {},
     "output_type": "execute_result"
    }
   ],
   "source": [
    "?==="
   ]
  },
  {
   "cell_type": "code",
   "execution_count": 92,
   "metadata": {
    "collapsed": false
   },
   "outputs": [
    {
     "data": {
      "text/plain": [
       "true"
      ]
     },
     "execution_count": 92,
     "metadata": {},
     "output_type": "execute_result"
    }
   ],
   "source": [
    "1 == 1.0"
   ]
  },
  {
   "cell_type": "code",
   "execution_count": 93,
   "metadata": {
    "collapsed": false
   },
   "outputs": [
    {
     "data": {
      "text/plain": [
       "false"
      ]
     },
     "execution_count": 93,
     "metadata": {},
     "output_type": "execute_result"
    }
   ],
   "source": [
    "1 === 1.0"
   ]
  },
  {
   "cell_type": "code",
   "execution_count": 94,
   "metadata": {
    "collapsed": false
   },
   "outputs": [
    {
     "data": {
      "text/plain": [
       "3-element Array{Any,1}:\n",
       " 4.0\n",
       " 5  \n",
       " 5  "
      ]
     },
     "execution_count": 94,
     "metadata": {},
     "output_type": "execute_result"
    }
   ],
   "source": [
    "z = a"
   ]
  },
  {
   "cell_type": "code",
   "execution_count": 95,
   "metadata": {
    "collapsed": false
   },
   "outputs": [
    {
     "data": {
      "text/plain": [
       "Ptr{Any} @0x00007fed98bc0400"
      ]
     },
     "execution_count": 95,
     "metadata": {},
     "output_type": "execute_result"
    }
   ],
   "source": [
    "pointer(z)"
   ]
  },
  {
   "cell_type": "code",
   "execution_count": 96,
   "metadata": {
    "collapsed": false
   },
   "outputs": [
    {
     "data": {
      "text/plain": [
       "Ptr{Any} @0x00007fed98bc0400"
      ]
     },
     "execution_count": 96,
     "metadata": {},
     "output_type": "execute_result"
    }
   ],
   "source": [
    "pointer(a)"
   ]
  },
  {
   "cell_type": "code",
   "execution_count": 100,
   "metadata": {
    "collapsed": false
   },
   "outputs": [
    {
     "data": {
      "text/plain": [
       "true"
      ]
     },
     "execution_count": 100,
     "metadata": {},
     "output_type": "execute_result"
    }
   ],
   "source": [
    "Array{Any,1} == Vector{Any}  #Alias"
   ]
  },
  {
   "cell_type": "markdown",
   "metadata": {},
   "source": [
    "## Functions\n"
   ]
  },
  {
   "cell_type": "code",
   "execution_count": 64,
   "metadata": {
    "collapsed": false
   },
   "outputs": [
    {
     "ename": "LoadError",
     "evalue": "LoadError: cannot define function f; it already has a value\nwhile loading In[64], in expression starting on line 1",
     "output_type": "error",
     "traceback": [
      "LoadError: cannot define function f; it already has a value\nwhile loading In[64], in expression starting on line 1",
      ""
     ]
    }
   ],
   "source": [
    "f(x) = 2*x"
   ]
  },
  {
   "cell_type": "code",
   "execution_count": 65,
   "metadata": {
    "collapsed": false
   },
   "outputs": [
    {
     "data": {
      "text/plain": [
       "g (generic function with 1 method)"
      ]
     },
     "execution_count": 65,
     "metadata": {},
     "output_type": "execute_result"
    }
   ],
   "source": [
    "g(x) = 2.0*x"
   ]
  },
  {
   "cell_type": "code",
   "execution_count": 66,
   "metadata": {
    "collapsed": false
   },
   "outputs": [
    {
     "ename": "LoadError",
     "evalue": "LoadError: MethodError: `call` has no method matching call(::Array{Any,1}, ::Int64)\nClosest candidates are:\n  BoundsError()\n  BoundsError(!Matched::Any...)\n  DivideError()\n  ...\nwhile loading In[66], in expression starting on line 1",
     "output_type": "error",
     "traceback": [
      "LoadError: MethodError: `call` has no method matching call(::Array{Any,1}, ::Int64)\nClosest candidates are:\n  BoundsError()\n  BoundsError(!Matched::Any...)\n  DivideError()\n  ...\nwhile loading In[66], in expression starting on line 1",
      ""
     ]
    }
   ],
   "source": [
    "f(2), g(2)"
   ]
  },
  {
   "cell_type": "code",
   "execution_count": 67,
   "metadata": {
    "collapsed": false
   },
   "outputs": [
    {
     "data": {
      "text/plain": [
       "0-element Array{Any,1}"
      ]
     },
     "execution_count": 67,
     "metadata": {},
     "output_type": "execute_result"
    }
   ],
   "source": [
    "methods(f)"
   ]
  },
  {
   "cell_type": "code",
   "execution_count": 68,
   "metadata": {
    "collapsed": false
   },
   "outputs": [
    {
     "data": {
      "text/plain": [
       "8.0"
      ]
     },
     "execution_count": 68,
     "metadata": {},
     "output_type": "execute_result"
    }
   ],
   "source": [
    "2^3.0"
   ]
  },
  {
   "cell_type": "code",
   "execution_count": 69,
   "metadata": {
    "collapsed": false
   },
   "outputs": [
    {
     "data": {
      "text/html": [
       "45 methods for generic function <b>^</b>:<ul><li> ^(x::<b>Bool</b>, y::<b>Bool</b>) at <a href=\"https://github.com/JuliaLang/julia/tree/03c072d725b6e2798347d00c9b46a3965edddaf8/base/bool.jl#L39\" target=\"_blank\">bool.jl:39</a><li> ^(x::<b>BigInt</b>, y::<b>Bool</b>) at <a href=\"https://github.com/JuliaLang/julia/tree/03c072d725b6e2798347d00c9b46a3965edddaf8/base/gmp.jl#L430\" target=\"_blank\">gmp.jl:430</a><li> ^(x::<b>Integer</b>, y::<b>Bool</b>) at <a href=\"https://github.com/JuliaLang/julia/tree/03c072d725b6e2798347d00c9b46a3965edddaf8/base/bool.jl#L40\" target=\"_blank\">bool.jl:40</a><li> ^<i>{T<:AbstractFloat}</i>(z::<b>Complex{T<:AbstractFloat}</b>, p::<b>Complex{T<:AbstractFloat}</b>) at <a href=\"https://github.com/JuliaLang/julia/tree/03c072d725b6e2798347d00c9b46a3965edddaf8/base/complex.jl#L433\" target=\"_blank\">complex.jl:433</a><li> ^<i>{T<:Complex{T<:Real}}</i>(z::<b>T<:Complex{T<:Real}</b>, p::<b>T<:Complex{T<:Real}</b>) at <a href=\"https://github.com/JuliaLang/julia/tree/03c072d725b6e2798347d00c9b46a3965edddaf8/base/complex.jl#L480\" target=\"_blank\">complex.jl:480</a><li> ^<i>{T<:AbstractFloat}</i>(z::<b>Complex{T<:AbstractFloat}</b>, n::<b>Bool</b>) at <a href=\"https://github.com/JuliaLang/julia/tree/03c072d725b6e2798347d00c9b46a3965edddaf8/base/complex.jl#L540\" target=\"_blank\">complex.jl:540</a><li> ^<i>{T<:Integer}</i>(z::<b>Complex{T<:Integer}</b>, n::<b>Bool</b>) at <a href=\"https://github.com/JuliaLang/julia/tree/03c072d725b6e2798347d00c9b46a3965edddaf8/base/complex.jl#L541\" target=\"_blank\">complex.jl:541</a><li> ^<i>{T<:Rational{T<:Integer}}</i>(z::<b>Complex{T<:Rational{T<:Integer}}</b>, n::<b>Bool</b>) at <a href=\"https://github.com/JuliaLang/julia/tree/03c072d725b6e2798347d00c9b46a3965edddaf8/base/rational.jl#L321\" target=\"_blank\">rational.jl:321</a><li> ^(z::<b>Complex{T<:Real}</b>, n::<b>Bool</b>) at <a href=\"https://github.com/JuliaLang/julia/tree/03c072d725b6e2798347d00c9b46a3965edddaf8/base/complex.jl#L537\" target=\"_blank\">complex.jl:537</a><li> ^<i>{T<:AbstractFloat}</i>(z::<b>Complex{T<:AbstractFloat}</b>, n::<b>Integer</b>) at <a href=\"https://github.com/JuliaLang/julia/tree/03c072d725b6e2798347d00c9b46a3965edddaf8/base/complex.jl#L543\" target=\"_blank\">complex.jl:543</a><li> ^<i>{T<:Integer}</i>(z::<b>Complex{T<:Integer}</b>, n::<b>Integer</b>) at <a href=\"https://github.com/JuliaLang/julia/tree/03c072d725b6e2798347d00c9b46a3965edddaf8/base/complex.jl#L545\" target=\"_blank\">complex.jl:545</a><li> ^<i>{T<:Rational{T<:Integer}}</i>(z::<b>Complex{T<:Rational{T<:Integer}}</b>, n::<b>Integer</b>) at <a href=\"https://github.com/JuliaLang/julia/tree/03c072d725b6e2798347d00c9b46a3965edddaf8/base/rational.jl#L323\" target=\"_blank\">rational.jl:323</a><li> ^(z::<b>Complex{T<:Real}</b>, n::<b>Integer</b>) at <a href=\"https://github.com/JuliaLang/julia/tree/03c072d725b6e2798347d00c9b46a3965edddaf8/base/complex.jl#L538\" target=\"_blank\">complex.jl:538</a><li> ^(x::<b>Rational{T<:Integer}</b>, n::<b>Integer</b>) at <a href=\"https://github.com/JuliaLang/julia/tree/03c072d725b6e2798347d00c9b46a3965edddaf8/base/rational.jl#L314\" target=\"_blank\">rational.jl:314</a><li> ^<i>{T<:AbstractFloat}</i>(x::<b>T<:AbstractFloat</b>, y::<b>Rational{T<:Integer}</b>) at <a href=\"https://github.com/JuliaLang/julia/tree/03c072d725b6e2798347d00c9b46a3965edddaf8/base/rational.jl#L318\" target=\"_blank\">rational.jl:318</a><li> ^<i>{T<:AbstractFloat}</i>(x::<b>Complex{T<:AbstractFloat}</b>, y::<b>Rational{T<:Integer}</b>) at <a href=\"https://github.com/JuliaLang/julia/tree/03c072d725b6e2798347d00c9b46a3965edddaf8/base/rational.jl#L319\" target=\"_blank\">rational.jl:319</a><li> ^(::<b>Irrational{:e}</b>, x::<b>Rational{T<:Integer}</b>) at <a href=\"https://github.com/JuliaLang/julia/tree/03c072d725b6e2798347d00c9b46a3965edddaf8/base/irrationals.jl#L123\" target=\"_blank\">irrationals.jl:123</a><li> ^(x::<b>Number</b>, y::<b>Rational{T<:Integer}</b>) at <a href=\"https://github.com/JuliaLang/julia/tree/03c072d725b6e2798347d00c9b46a3965edddaf8/base/rational.jl#L317\" target=\"_blank\">rational.jl:317</a><li> ^(x::<b>BigInt</b>, y::<b>UInt64</b>) at <a href=\"https://github.com/JuliaLang/julia/tree/03c072d725b6e2798347d00c9b46a3965edddaf8/base/gmp.jl#L404\" target=\"_blank\">gmp.jl:404</a><li> ^(x::<b>BigInt</b>, y::<b>BigInt</b>) at <a href=\"https://github.com/JuliaLang/julia/tree/03c072d725b6e2798347d00c9b46a3965edddaf8/base/gmp.jl#L429\" target=\"_blank\">gmp.jl:429</a><li> ^(x::<b>BigInt</b>, y::<b>Integer</b>) at <a href=\"https://github.com/JuliaLang/julia/tree/03c072d725b6e2798347d00c9b46a3965edddaf8/base/gmp.jl#L431\" target=\"_blank\">gmp.jl:431</a><li> ^(x::<b>Integer</b>, y::<b>BigInt</b>) at <a href=\"https://github.com/JuliaLang/julia/tree/03c072d725b6e2798347d00c9b46a3965edddaf8/base/gmp.jl#L432\" target=\"_blank\">gmp.jl:432</a><li> ^<i>{T<:Integer}</i>(x::<b>T<:Integer</b>, p::<b>T<:Integer</b>) at <a href=\"https://github.com/JuliaLang/julia/tree/03c072d725b6e2798347d00c9b46a3965edddaf8/base/intfuncs.jl#L106\" target=\"_blank\">intfuncs.jl:106</a><li> ^(x::<b>Float64</b>, y::<b>Integer</b>) at <a href=\"https://github.com/JuliaLang/julia/tree/03c072d725b6e2798347d00c9b46a3965edddaf8/base/math.jl#L278\" target=\"_blank\">math.jl:278</a><li> ^(x::<b>Float32</b>, y::<b>Integer</b>) at <a href=\"https://github.com/JuliaLang/julia/tree/03c072d725b6e2798347d00c9b46a3965edddaf8/base/math.jl#L280\" target=\"_blank\">math.jl:280</a><li> ^(x::<b>Float16</b>, y::<b>Integer</b>) at <a href=\"https://github.com/JuliaLang/julia/tree/03c072d725b6e2798347d00c9b46a3965edddaf8/base/float16.jl#L163\" target=\"_blank\">float16.jl:163</a><li> ^(x::<b>BigFloat</b>, y::<b>Union{UInt16,UInt32,UInt64,UInt8}</b>) at <a href=\"https://github.com/JuliaLang/julia/tree/03c072d725b6e2798347d00c9b46a3965edddaf8/base/mpfr.jl#L427\" target=\"_blank\">mpfr.jl:427</a><li> ^(x::<b>BigFloat</b>, y::<b>Union{Int16,Int32,Int64,Int8}</b>) at <a href=\"https://github.com/JuliaLang/julia/tree/03c072d725b6e2798347d00c9b46a3965edddaf8/base/mpfr.jl#L433\" target=\"_blank\">mpfr.jl:433</a><li> ^(x::<b>BigFloat</b>, y::<b>BigInt</b>) at <a href=\"https://github.com/JuliaLang/julia/tree/03c072d725b6e2798347d00c9b46a3965edddaf8/base/mpfr.jl#L439\" target=\"_blank\">mpfr.jl:439</a><li> ^(::<b>Irrational{:e}</b>, x::<b>Integer</b>) at <a href=\"https://github.com/JuliaLang/julia/tree/03c072d725b6e2798347d00c9b46a3965edddaf8/base/irrationals.jl#L123\" target=\"_blank\">irrationals.jl:123</a><li> ^(x::<b>Number</b>, p::<b>Integer</b>) at <a href=\"https://github.com/JuliaLang/julia/tree/03c072d725b6e2798347d00c9b46a3965edddaf8/base/intfuncs.jl#L107\" target=\"_blank\">intfuncs.jl:107</a><li> ^(x::<b>Float64</b>, y::<b>Float64</b>) at <a href=\"https://github.com/JuliaLang/julia/tree/03c072d725b6e2798347d00c9b46a3965edddaf8/base/math.jl#L275\" target=\"_blank\">math.jl:275</a><li> ^(x::<b>Float32</b>, y::<b>Float32</b>) at <a href=\"https://github.com/JuliaLang/julia/tree/03c072d725b6e2798347d00c9b46a3965edddaf8/base/math.jl#L276\" target=\"_blank\">math.jl:276</a><li> ^(a::<b>Float16</b>, b::<b>Float16</b>) at <a href=\"https://github.com/JuliaLang/julia/tree/03c072d725b6e2798347d00c9b46a3965edddaf8/base/float16.jl#L136\" target=\"_blank\">float16.jl:136</a><li> ^(x::<b>BigFloat</b>, y::<b>BigFloat</b>) at <a href=\"https://github.com/JuliaLang/julia/tree/03c072d725b6e2798347d00c9b46a3965edddaf8/base/mpfr.jl#L421\" target=\"_blank\">mpfr.jl:421</a><li> ^(::<b>Irrational{:e}</b>, x::<b>Irrational{sym}</b>) at <a href=\"https://github.com/JuliaLang/julia/tree/03c072d725b6e2798347d00c9b46a3965edddaf8/base/irrationals.jl#L123\" target=\"_blank\">irrationals.jl:123</a><li> ^(x::<b>Irrational{sym}</b>, y::<b>Irrational{sym}</b>) at <a href=\"https://github.com/JuliaLang/julia/tree/03c072d725b6e2798347d00c9b46a3965edddaf8/base/irrationals.jl#L72\" target=\"_blank\">irrationals.jl:72</a><li> ^(::<b>Irrational{:e}</b>, x::<b>Number</b>) at <a href=\"https://github.com/JuliaLang/julia/tree/03c072d725b6e2798347d00c9b46a3965edddaf8/base/irrationals.jl#L123\" target=\"_blank\">irrationals.jl:123</a><li> ^<i>{T<:Number}</i>(x::<b>T<:Number</b>, y::<b>T<:Number</b>) at <a href=\"https://github.com/JuliaLang/julia/tree/03c072d725b6e2798347d00c9b46a3965edddaf8/base/promotion.jl#L215\" target=\"_blank\">promotion.jl:215</a><li> ^(x::<b>Number</b>, y::<b>Number</b>) at <a href=\"https://github.com/JuliaLang/julia/tree/03c072d725b6e2798347d00c9b46a3965edddaf8/base/promotion.jl#L171\" target=\"_blank\">promotion.jl:171</a><li> ^(s::<b>AbstractString</b>, r::<b>Integer</b>) at <a href=\"https://github.com/JuliaLang/julia/tree/03c072d725b6e2798347d00c9b46a3965edddaf8/base/strings/types.jl#L185\" target=\"_blank\">strings/types.jl:185</a><li> ^(A::<b>Array{T,2}</b>, p::<b>Integer</b>) at <a href=\"https://github.com/JuliaLang/julia/tree/03c072d725b6e2798347d00c9b46a3965edddaf8/base/linalg/dense.jl#L172\" target=\"_blank\">linalg/dense.jl:172</a><li> ^(x, p::<b>Integer</b>) at <a href=\"https://github.com/JuliaLang/julia/tree/03c072d725b6e2798347d00c9b46a3965edddaf8/base/intfuncs.jl#L108\" target=\"_blank\">intfuncs.jl:108</a><li> ^(A::<b>Array{T,2}</b>, p::<b>Number</b>) at <a href=\"https://github.com/JuliaLang/julia/tree/03c072d725b6e2798347d00c9b46a3965edddaf8/base/linalg/dense.jl#L175\" target=\"_blank\">linalg/dense.jl:175</a><li> ^(::<b>Irrational{:e}</b>, x::<b>AbstractArray{T,2}</b>) at <a href=\"https://github.com/JuliaLang/julia/tree/03c072d725b6e2798347d00c9b46a3965edddaf8/base/irrationals.jl#L128\" target=\"_blank\">irrationals.jl:128</a></ul>"
      ],
      "text/plain": [
       "# 45 methods for generic function \"^\":\n",
       "^(x::Bool, y::Bool) at bool.jl:39\n",
       "^(x::BigInt, y::Bool) at gmp.jl:430\n",
       "^(x::Integer, y::Bool) at bool.jl:40\n",
       "^{T<:AbstractFloat}(z::Complex{T<:AbstractFloat}, p::Complex{T<:AbstractFloat}) at complex.jl:433\n",
       "^{T<:Complex{T<:Real}}(z::T<:Complex{T<:Real}, p::T<:Complex{T<:Real}) at complex.jl:480\n",
       "^{T<:AbstractFloat}(z::Complex{T<:AbstractFloat}, n::Bool) at complex.jl:540\n",
       "^{T<:Integer}(z::Complex{T<:Integer}, n::Bool) at complex.jl:541\n",
       "^{T<:Rational{T<:Integer}}(z::Complex{T<:Rational{T<:Integer}}, n::Bool) at rational.jl:321\n",
       "^(z::Complex{T<:Real}, n::Bool) at complex.jl:537\n",
       "^{T<:AbstractFloat}(z::Complex{T<:AbstractFloat}, n::Integer) at complex.jl:543\n",
       "^{T<:Integer}(z::Complex{T<:Integer}, n::Integer) at complex.jl:545\n",
       "^{T<:Rational{T<:Integer}}(z::Complex{T<:Rational{T<:Integer}}, n::Integer) at rational.jl:323\n",
       "^(z::Complex{T<:Real}, n::Integer) at complex.jl:538\n",
       "^(x::Rational{T<:Integer}, n::Integer) at rational.jl:314\n",
       "^{T<:AbstractFloat}(x::T<:AbstractFloat, y::Rational{T<:Integer}) at rational.jl:318\n",
       "^{T<:AbstractFloat}(x::Complex{T<:AbstractFloat}, y::Rational{T<:Integer}) at rational.jl:319\n",
       "^(::Irrational{:e}, x::Rational{T<:Integer}) at irrationals.jl:123\n",
       "^(x::Number, y::Rational{T<:Integer}) at rational.jl:317\n",
       "^(x::BigInt, y::UInt64) at gmp.jl:404\n",
       "^(x::BigInt, y::BigInt) at gmp.jl:429\n",
       "^(x::BigInt, y::Integer) at gmp.jl:431\n",
       "^(x::Integer, y::BigInt) at gmp.jl:432\n",
       "^{T<:Integer}(x::T<:Integer, p::T<:Integer) at intfuncs.jl:106\n",
       "^(x::Float64, y::Integer) at math.jl:278\n",
       "^(x::Float32, y::Integer) at math.jl:280\n",
       "^(x::Float16, y::Integer) at float16.jl:163\n",
       "^(x::BigFloat, y::Union{UInt16,UInt32,UInt64,UInt8}) at mpfr.jl:427\n",
       "^(x::BigFloat, y::Union{Int16,Int32,Int64,Int8}) at mpfr.jl:433\n",
       "^(x::BigFloat, y::BigInt) at mpfr.jl:439\n",
       "^(::Irrational{:e}, x::Integer) at irrationals.jl:123\n",
       "^(x::Number, p::Integer) at intfuncs.jl:107\n",
       "^(x::Float64, y::Float64) at math.jl:275\n",
       "^(x::Float32, y::Float32) at math.jl:276\n",
       "^(a::Float16, b::Float16) at float16.jl:136\n",
       "^(x::BigFloat, y::BigFloat) at mpfr.jl:421\n",
       "^(::Irrational{:e}, x::Irrational{sym}) at irrationals.jl:123\n",
       "^(x::Irrational{sym}, y::Irrational{sym}) at irrationals.jl:72\n",
       "^(::Irrational{:e}, x::Number) at irrationals.jl:123\n",
       "^{T<:Number}(x::T<:Number, y::T<:Number) at promotion.jl:215\n",
       "^(x::Number, y::Number) at promotion.jl:171\n",
       "^(s::AbstractString, r::Integer) at strings/types.jl:185\n",
       "^(A::Array{T,2}, p::Integer) at linalg/dense.jl:172\n",
       "^(x, p::Integer) at intfuncs.jl:108\n",
       "^(A::Array{T,2}, p::Number) at linalg/dense.jl:175\n",
       "^(::Irrational{:e}, x::AbstractArray{T,2}) at irrationals.jl:128"
      ]
     },
     "execution_count": 69,
     "metadata": {},
     "output_type": "execute_result"
    }
   ],
   "source": [
    "methods(^)"
   ]
  },
  {
   "cell_type": "code",
   "execution_count": 70,
   "metadata": {
    "collapsed": false
   },
   "outputs": [
    {
     "data": {
      "text/html": [
       "^(x::<b>Number</b>, y::<b>Number</b>) at <a href=\"https://github.com/JuliaLang/julia/tree/03c072d725b6e2798347d00c9b46a3965edddaf8/base/promotion.jl#L171\" target=\"_blank\">promotion.jl:171</a>"
      ],
      "text/plain": [
       "^(x::Number, y::Number) at promotion.jl:171"
      ]
     },
     "execution_count": 70,
     "metadata": {},
     "output_type": "execute_result"
    }
   ],
   "source": [
    "@which 2^3.0"
   ]
  },
  {
   "cell_type": "markdown",
   "metadata": {
    "collapsed": true
   },
   "source": [
    "## Aplicación (Caminante aleatorio)"
   ]
  },
  {
   "cell_type": "code",
   "execution_count": 81,
   "metadata": {
    "collapsed": false
   },
   "outputs": [
    {
     "data": {
      "text/plain": [
       "caminante (generic function with 1 method)"
      ]
     },
     "execution_count": 81,
     "metadata": {},
     "output_type": "execute_result"
    }
   ],
   "source": [
    "function caminante(npasos::Int)\n",
    "    x = 0.0\n",
    "    z = Vector{Float64}(npasos)\n",
    "    for i in 1:npasos\n",
    "        y = rand() - 0.5 ## número de pasos entre -0.5 y 0.5\n",
    "        x += y\n",
    "        z[i] = x\n",
    "    end\n",
    "    z\n",
    "end\n",
    "        \n",
    "    "
   ]
  },
  {
   "cell_type": "code",
   "execution_count": 82,
   "metadata": {
    "collapsed": false
   },
   "outputs": [],
   "source": [
    "posicion = caminante(1000);"
   ]
  },
  {
   "cell_type": "code",
   "execution_count": 83,
   "metadata": {
    "collapsed": true
   },
   "outputs": [],
   "source": [
    "using PyPlot"
   ]
  },
  {
   "cell_type": "code",
   "execution_count": 84,
   "metadata": {
    "collapsed": false
   },
   "outputs": [
    {
     "data": {
      "image/png": "[encoded data removed]",
      "text/plain": [
       "PyPlot.Figure(PyObject <matplotlib.figure.Figure object at 0x7fed728b8810>)"
      ]
     },
     "metadata": {},
     "output_type": "display_data"
    },
    {
     "data": {
      "text/plain": [
       "1-element Array{Any,1}:\n",
       " PyObject <matplotlib.lines.Line2D object at 0x7fed7286e810>"
      ]
     },
     "execution_count": 84,
     "metadata": {},
     "output_type": "execute_result"
    }
   ],
   "source": [
    "plot(posicion)"
   ]
  },
  {
   "cell_type": "markdown",
   "metadata": {},
   "source": [
    "**Tarea** Escribe una función que calcule el comportamiento de 10 caminantes aleatorios"
   ]
  },
  {
   "cell_type": "markdown",
   "metadata": {},
   "source": [
    "Función map"
   ]
  },
  {
   "cell_type": "code",
   "execution_count": 105,
   "metadata": {
    "collapsed": false
   },
   "outputs": [
    {
     "name": "stdout",
     "output_type": "stream",
     "text": [
      "search: map map! mapfoldr mapfoldl mapslices mapreduce mapreducedim pmap\n",
      "\n"
     ]
    },
    {
     "data": {
      "text/latex": [
       "\\begin{verbatim}\n",
       "map(f, c...) -> collection\n",
       "\\end{verbatim}\n",
       "Transform collection \\texttt{c} by applying \\texttt{f} to each element. For multiple collection arguments, apply \\texttt{f} elementwise.\n",
       "\\begin{verbatim}\n",
       "julia> map((x) -> x * 2, [1, 2, 3])\n",
       "3-element Array{Int64,1}:\n",
       " 2\n",
       " 4\n",
       " 6\n",
       "\n",
       "julia> map(+, [1, 2, 3], [10, 20, 30])\n",
       "3-element Array{Int64,1}:\n",
       " 11\n",
       " 22\n",
       " 33\n",
       "\\end{verbatim}\n"
      ],
      "text/markdown": [
       "```\n",
       "map(f, c...) -> collection\n",
       "```\n",
       "\n",
       "Transform collection `c` by applying `f` to each element. For multiple collection arguments, apply `f` elementwise.\n",
       "\n",
       "```jldoctest\n",
       "julia> map((x) -> x * 2, [1, 2, 3])\n",
       "3-element Array{Int64,1}:\n",
       " 2\n",
       " 4\n",
       " 6\n",
       "\n",
       "julia> map(+, [1, 2, 3], [10, 20, 30])\n",
       "3-element Array{Int64,1}:\n",
       " 11\n",
       " 22\n",
       " 33\n",
       "```\n"
      ],
      "text/plain": [
       "```\n",
       "map(f, c...) -> collection\n",
       "```\n",
       "\n",
       "Transform collection `c` by applying `f` to each element. For multiple collection arguments, apply `f` elementwise.\n",
       "\n",
       "```jldoctest\n",
       "julia> map((x) -> x * 2, [1, 2, 3])\n",
       "3-element Array{Int64,1}:\n",
       " 2\n",
       " 4\n",
       " 6\n",
       "\n",
       "julia> map(+, [1, 2, 3], [10, 20, 30])\n",
       "3-element Array{Int64,1}:\n",
       " 11\n",
       " 22\n",
       " 33\n",
       "```\n"
      ]
     },
     "execution_count": 105,
     "metadata": {},
     "output_type": "execute_result"
    }
   ],
   "source": [
    "?map"
   ]
  },
  {
   "cell_type": "code",
   "execution_count": null,
   "metadata": {
    "collapsed": true
   },
   "outputs": [],
   "source": []
  }
 ],
 "metadata": {
  "kernelspec": {
   "display_name": "Julia 0.4.6-pre",
   "language": "julia",
   "name": "julia-0.4"
  },
  "language_info": {
   "file_extension": ".jl",
   "mimetype": "application/julia",
   "name": "julia",
   "version": "0.4.6"
  }
 },
 "nbformat": 4,
 "nbformat_minor": 0
}
