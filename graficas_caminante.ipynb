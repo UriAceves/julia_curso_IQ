{
 "cells": [
  {
   "cell_type": "code",
   "execution_count": 105,
   "metadata": {
    "collapsed": false
   },
   "outputs": [
    {
     "data": {
      "text/plain": [
       "caminante (generic function with 1 method)"
      ]
     },
     "execution_count": 105,
     "metadata": {},
     "output_type": "execute_result"
    }
   ],
   "source": [
    "function caminante(npasos::Int64)\n",
    "    x_inicial = 0.0\n",
    "    posicion = Vector{Float64}(npasos)\n",
    "    posicion[1] = x_inicial\n",
    "\n",
    "    for i in 2:npasos\n",
    "        paso = rand() - 0.5\n",
    "        posicion[i] = posicion[i-1] + paso\n",
    "    end\n",
    "    posicion\n",
    "end"
   ]
  },
  {
   "cell_type": "code",
   "execution_count": 106,
   "metadata": {
    "collapsed": false
   },
   "outputs": [],
   "source": [
    "using PyPlot"
   ]
  },
  {
   "cell_type": "code",
   "execution_count": 107,
   "metadata": {
    "collapsed": false
   },
   "outputs": [],
   "source": [
    "#pygui(false)"
   ]
  },
  {
   "cell_type": "code",
   "execution_count": 108,
   "metadata": {
    "collapsed": false
   },
   "outputs": [],
   "source": [
    "for i in 1:1000\n",
    "    posicion = caminante(10000);\n",
    "    plot(posicion)\n",
    "end"
   ]
  },
  {
   "cell_type": "code",
   "execution_count": 74,
   "metadata": {
    "collapsed": false
   },
   "outputs": [
    {
     "data": {
      "text/plain": [
       "1-element Array{Any,1}:\n",
       " PyObject <matplotlib.lines.Line2D object at 0x7f7a5fddeb10>"
      ]
     },
     "execution_count": 74,
     "metadata": {},
     "output_type": "execute_result"
    }
   ],
   "source": [
    "plot(posicion, \"y--\")"
   ]
  },
  {
   "cell_type": "code",
   "execution_count": 77,
   "metadata": {
    "collapsed": false
   },
   "outputs": [
    {
     "data": {
      "text/plain": [
       "20-element Array{Float64,1}:\n",
       "  0.0      \n",
       "  0.202057 \n",
       "  0.362164 \n",
       " -0.0975779\n",
       " -0.259658 \n",
       " -0.449018 \n",
       " -0.872067 \n",
       " -1.15483  \n",
       " -1.01122  \n",
       " -1.4522   \n",
       " -1.62689  \n",
       " -1.70706  \n",
       " -1.98076  \n",
       " -1.67023  \n",
       " -1.70757  \n",
       " -1.64468  \n",
       " -1.45654  \n",
       " -1.46354  \n",
       " -1.84235  \n",
       " -1.94731  "
      ]
     },
     "execution_count": 77,
     "metadata": {},
     "output_type": "execute_result"
    }
   ],
   "source": [
    "posicion2 = posicion[1:20]"
   ]
  },
  {
   "cell_type": "code",
   "execution_count": 94,
   "metadata": {
    "collapsed": false
   },
   "outputs": [
    {
     "data": {
      "text/plain": [
       "PyObject <matplotlib.text.Text object at 0x7f7a5f084d10>"
      ]
     },
     "execution_count": 94,
     "metadata": {},
     "output_type": "execute_result"
    }
   ],
   "source": [
    "plot(posicion2,\"g.--\")\n",
    "plt[:xlabel](\"x\", fontsize = 24)\n",
    "plt[:ylabel](L\"$x$\",fontsize = 24)"
   ]
  },
  {
   "cell_type": "code",
   "execution_count": 95,
   "metadata": {
    "collapsed": false
   },
   "outputs": [
    {
     "data": {
      "text/plain": [
       "10000-element Array{Float64,1}:\n",
       "  0.0      \n",
       "  0.202057 \n",
       "  0.362164 \n",
       " -0.0975779\n",
       " -0.259658 \n",
       " -0.449018 \n",
       " -0.872067 \n",
       " -1.15483  \n",
       " -1.01122  \n",
       " -1.4522   \n",
       " -1.62689  \n",
       " -1.70706  \n",
       " -1.98076  \n",
       "  ⋮        \n",
       " 29.8434   \n",
       " 29.4755   \n",
       " 29.4036   \n",
       " 29.5272   \n",
       " 29.2446   \n",
       " 29.2884   \n",
       " 29.2306   \n",
       " 29.5432   \n",
       " 29.5874   \n",
       " 29.1892   \n",
       " 28.9541   \n",
       " 29.2389   "
      ]
     },
     "execution_count": 95,
     "metadata": {},
     "output_type": "execute_result"
    }
   ],
   "source": [
    "posicion"
   ]
  },
  {
   "cell_type": "code",
   "execution_count": 102,
   "metadata": {
    "collapsed": false
   },
   "outputs": [
    {
     "data": {
      "text/plain": [
       "false"
      ]
     },
     "execution_count": 102,
     "metadata": {},
     "output_type": "execute_result"
    }
   ],
   "source": [
    "pygui(false)"
   ]
  },
  {
   "cell_type": "code",
   "execution_count": 104,
   "metadata": {
    "collapsed": false
   },
   "outputs": [],
   "source": [
    "plt[:hist](posicion, 100)\n",
    "plt[:savefig](\"histogramacaminante.png\")"
   ]
  },
  {
   "cell_type": "code",
   "execution_count": null,
   "metadata": {
    "collapsed": true
   },
   "outputs": [],
   "source": []
  }
 ],
 "metadata": {
  "kernelspec": {
   "display_name": "Julia 0.4.6-pre",
   "language": "julia",
   "name": "julia-0.4"
  },
  "language_info": {
   "file_extension": ".jl",
   "mimetype": "application/julia",
   "name": "julia",
   "version": "0.4.6"
  }
 },
 "nbformat": 4,
 "nbformat_minor": 0
}
