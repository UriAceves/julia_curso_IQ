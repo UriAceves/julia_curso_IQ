{
 "cells": [
  {
   "cell_type": "markdown",
   "metadata": {},
   "source": [
    "# Tipos en Julia"
   ]
  },
  {
   "cell_type": "markdown",
   "metadata": {},
   "source": [
    "Documentación:\n",
    "\n",
    "* [Tipos](http://docs.julialang.org/en/release-0.4/manual/types/)\n",
    "* [Constructores](http://docs.julialang.org/en/release-0.4/manual/constructors/#man-constructors)"
   ]
  },
  {
   "cell_type": "markdown",
   "metadata": {},
   "source": [
    "En esta sesión vamos a construir colectivamente un programa que nos permita definir computacionalmente un gas ideal con algunos métodos sobre este tipo, tales como actualiz"
   ]
  }
 ],
 "metadata": {
  "kernelspec": {
   "display_name": "Julia 0.4.6-pre",
   "language": "julia",
   "name": "julia-0.4"
  },
  "language_info": {
   "file_extension": ".jl",
   "mimetype": "application/julia",
   "name": "julia",
   "version": "0.4.6"
  }
 },
 "nbformat": 4,
 "nbformat_minor": 0
}
