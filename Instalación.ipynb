{
 "cells": [
  {
   "cell_type": "markdown",
   "metadata": {},
   "source": [
    "# Instalación de Julia"
   ]
  },
  {
   "cell_type": "markdown",
   "metadata": {},
   "source": [
    "## Ubuntu "
   ]
  },
  {
   "cell_type": "markdown",
   "metadata": {},
   "source": [
    "En Ubuntu, la instalación de Julia se hace facilemente \n",
    "a través de la línea de comandos, agregando los PPA's \n",
    "(*Personal Package Archive*) adecuados. Para esto abre una terminal (shortcut: **Ctrl-Alt-t**) y teclea"
   ]
  },
  {
   "cell_type": "markdown",
   "metadata": {},
   "source": [
    "`\n",
    "$ sudo add-apt-repository ppa:staticfloat/juliareleases\n",
    "$ sudo add-apt-repository ppa:staticfloat/julia-deps\n",
    "$ sudo apt-get update\n",
    "$ sudo apt-get install julia\n",
    "`"
   ]
  },
  {
   "cell_type": "markdown",
   "metadata": {},
   "source": [
    "Así, al abrir una terminal y teclear julia se inicia su parte interactiva conocida como REPL (*Read Evaluate Print Loop*), que debe verse más o menos así:"
   ]
  },
  {
   "cell_type": "markdown",
   "metadata": {},
   "source": [
    "![REPL](http://blog.brakmic.com/wp-content/uploads/2015/11/julia_repl.png)"
   ]
  },
  {
   "cell_type": "markdown",
   "metadata": {},
   "source": [
    "## Mac, Windows y otras distrbuciones de Linux"
   ]
  },
  {
   "cell_type": "markdown",
   "metadata": {},
   "source": [
    "Ve a la [página oficial de descargas](http://julialang.org/downloads/platform.html) de Julia y descarga el instalador de acuerdo con la arquitectura de tu  computadora y el sistema operativo que uses.\n",
    "\n",
    "Para Mac descarga el .dmg, pulsa doble click para abrirlo y arrastra el ícono a la carpeta Aplicaciones. Para iniciar Julia, clickea el ícono que se creó en la carpeta Aplicaciones. Esto abre el REPL.\n",
    "\n",
    "En Windows la instalación se reduce a ejecutar el archivo que descargues y seguir los pasos. Después de instalar julia aparecerá un ícono (en el escritorio por ejemplo) tal que al hacer click sobre él abre el REPL.\n",
    "\n",
    "Para Linux descarga el tar.gz y extráelo en donde quieras ejecutar julia. Una vez extraído muevete al subdirectorio /bin/ dentro de la carpeta que se creó al extraer el archivo y escribe en una terminal `./julia`."
   ]
  },
  {
   "cell_type": "markdown",
   "metadata": {},
   "source": [
    "Con esto, ya tendrás julia en tu computadora y lo podrás usar para las tareas básicas que haremos en la primera parte del curso. Sin embargo, es importante que intentes la  parte siguiente de la instalación que consiste en hacer que el sistema operativo reconozca el comando julia siempre que sea invocado desde la terminal."
   ]
  },
  {
   "cell_type": "markdown",
   "metadata": {},
   "source": [
    "## Parte avanzada (saltar si usaste PPA's en Ubuntu)"
   ]
  },
  {
   "cell_type": "markdown",
   "metadata": {},
   "source": [
    "Una vez esto funcione, nuestra siguiente preocupación será correr julia directamente desde la terminal sin necesidad de movernos a la carpeta donde está el ejecutable (al menos en Mac y Linux). \n",
    "\n",
    "Para esto encuentra la ruta en la cual está el ejecutable y crea un alias en el archivo `~/.bashrc` o `~/.bash_profile` (estos arhivos son archivos ocultos que están en tu directorio HOME). \n",
    "\n",
    "En Mac, el alias sería de la forma (dando la ruta exacta):"
   ]
  },
  {
   "cell_type": "markdown",
   "metadata": {},
   "source": [
    "` alias julia=\"/Applications/Julia-0.4.0.app/Contents/Resources/julia/bin/julia\" `"
   ]
  },
  {
   "cell_type": "markdown",
   "metadata": {},
   "source": [
    "Mientras que en Linux:"
   ]
  },
  {
   "cell_type": "markdown",
   "metadata": {},
   "source": [
    "` alias julia=\"/RutaDondeExtraísteeltar/bin/julia/\" `"
   ]
  },
  {
   "cell_type": "markdown",
   "metadata": {},
   "source": [
    "En Windows se recomienda crear una variable de entorno llamada **JULIA_HOME** cuyo valor sea el directorio **\\bin** donde se instaló Julia (usualmente **AppData**). Esa variable se agrega a la variable **PATH** lo cual permitirá correr scripts desde cualquier directorio. (Más sobre variables de entorno en windows en esta [liga](http://www.computerhope.com/issues/ch000549.htm))."
   ]
  },
  {
   "cell_type": "markdown",
   "metadata": {},
   "source": [
    "## Recursos externos"
   ]
  },
  {
   "cell_type": "markdown",
   "metadata": {},
   "source": [
    "Más información sobre la instalación puede ser encontrada [aquí](https://en.wikibooks.org/wiki/Introducing_Julia/Getting_started)"
   ]
  }
 ],
 "metadata": {
  "kernelspec": {
   "display_name": "Julia 0.4.2",
   "language": "julia",
   "name": "julia-0.4"
  },
  "language_info": {
   "file_extension": ".jl",
   "mimetype": "application/julia",
   "name": "julia",
   "version": "0.5.0"
  }
 },
 "nbformat": 4,
 "nbformat_minor": 0
}
