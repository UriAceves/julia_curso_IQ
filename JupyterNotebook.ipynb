{
 "cells": [
  {
   "cell_type": "markdown",
   "metadata": {},
   "source": [
    "# Descripción e Instalación de Jupyter notebook"
   ]
  },
  {
   "cell_type": "markdown",
   "metadata": {},
   "source": [
    "## Descripción "
   ]
  },
  {
   "cell_type": "markdown",
   "metadata": {},
   "source": [
    "*Jupyter notebook* (acrónimo para **Julia - Python - R**) es una aplicación web diseñada para cómputo interactivo.  Ésta permite crear y compartir documentos que contienen código, ecuaciones, visualizaciones y texto. "
   ]
  },
  {
   "cell_type": "markdown",
   "metadata": {},
   "source": [
    "*Jupyter notebook* permite escribir texto en lenguaje markdown, ecuaciones en lenguaje $\\LaTeX$ y correr y ejecutar código escrito en por lo menos 40 lenguajes de programación (como **C++, PHP, C#, Ruby** y por supuesto **Julia**)."
   ]
  },
  {
   "cell_type": "markdown",
   "metadata": {},
   "source": [
    "### Markdown"
   ]
  },
  {
   "cell_type": "markdown",
   "metadata": {},
   "source": [
    "Markdown es un lenguaje para el formato de texto. Su uso es ampliamente extendido en foros tales como [stackexchange](http://stackexchange.com/). Los principales comandos del lenguaje markdown son:\n",
    "    # para títulos\n",
    "    ## para subtítulos\n",
    "    * para generar un ítem\n",
    "    TAB * genera un subítem\n",
    "    *texto* genera  texto en cursiva\n",
    "    **texto** genera texto en negrita\n",
    "    Sintaxis para tablas:\n",
    "    | Columna 1| Columna 2|\n",
    "    |----------| ----------|\n",
    "    | Manzanas | 15|\n",
    "    |Peras | 20 |\n",
    "    [páginaweb](link a la pagina)\n",
    "    `codigo en medio de texto`\n",
    "    ![nombreimagen](URL imagen)\n",
    "    ![nombreimagen](direcciónalaimagen)"
   ]
  },
  {
   "cell_type": "markdown",
   "metadata": {},
   "source": [
    "Una descripción exhaustiva de los comandos markdown se encuentra [aquí](https://github.com/adam-p/markdown-here/wiki/Markdown-Cheatsheet) o [acá](https://confluence.atlassian.com/bitbucketserver/markdown-syntax-guide-776639995.html)"
   ]
  },
  {
   "cell_type": "markdown",
   "metadata": {},
   "source": [
    "En el Jupyter notebook una celda queda en formato markdown con la combinación de teclas **Ctrl-m m** (Control y m al tiempo y después m), o bien **ESC m**"
   ]
  },
  {
   "cell_type": "markdown",
   "metadata": {},
   "source": [
    "## Instalación"
   ]
  },
  {
   "cell_type": "markdown",
   "metadata": {},
   "source": [
    "Para instalar el Jupyter notebook básicamente necesitas descargar e instalar **Anaconda** que básicamente es una distribución que contiene **Python** y la mayoría de librerías relevantes para el cómputo científico. Para la descarga ve a esta [liga](https://www.continuum.io/downloads). \n",
    "\n",
    "Ambas versiones de Python (2.7 o 3.5) son aceptables para nuestros intereses aunque yo en lo particular uso 2.7.\n",
    "\n",
    "Una vez hayas instalado Anaconda abre el REPL de Julia y agrega el paquete IJulia, el cual permite la interacción con el Jupyter Notebook. Para esto en el REPL escribe las siguientes lineas\n",
    "\n",
    "```\n",
    "julia> Pkg.add(\"IJulia\")\n",
    "julia> using IJulia\n",
    "julia> notebook()\n",
    "```\n",
    "\n",
    "Si todo sale bien, ¡felicidades!, ya puedes usar el Jupyter notebook. \n",
    "\n",
    "Para futuras ocasiones solo necesitas escribir las últimas dos líneas, o bien abrir una terminal y escribir `jupyter notebook`"
   ]
  },
  {
   "cell_type": "markdown",
   "metadata": {},
   "source": [
    "## Comandos Principales"
   ]
  },
  {
   "cell_type": "markdown",
   "metadata": {},
   "source": [
    "Los comandos principales para el uso del notebook los encuentras en la pestaña *Help - Keyboard Shortcuts* en la parte superior del notebook. Básicamente están precedidos por la tecla **ESC**.\n",
    "Ejemplos:\n",
    "* ESC m # Formato markdown\n",
    "* ESC b # Crea una celda debajo de la actual\n",
    "* ESC a # Crea una celda arriba de la actual\n",
    "* ESC d d # Elimina la celda actual\n",
    "Otros comandos importantes que no usan **ESC**\n",
    "* Shift-Enter #Ejecuta la celda actual\n",
    "* Alt-Enter #Ejecuta las celdas seleccionadas"
   ]
  },
  {
   "cell_type": "code",
   "execution_count": null,
   "metadata": {
    "collapsed": true
   },
   "outputs": [],
   "source": []
  },
  {
   "cell_type": "code",
   "execution_count": null,
   "metadata": {
    "collapsed": true
   },
   "outputs": [],
   "source": []
  }
 ],
 "metadata": {
  "kernelspec": {
   "display_name": "Julia 0.4.6-pre",
   "language": "julia",
   "name": "julia-0.4"
  },
  "language_info": {
   "file_extension": ".jl",
   "mimetype": "application/julia",
   "name": "julia",
   "version": "0.4.6"
  }
 },
 "nbformat": 4,
 "nbformat_minor": 0
}
