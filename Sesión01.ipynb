{
 "cells": [
  {
   "cell_type": "markdown",
   "metadata": {},
   "source": [
    "## Sesión 1"
   ]
  },
  {
   "cell_type": "markdown",
   "metadata": {},
   "source": [
    "Para empezar hay por los menos cuatro recursos buenos "
   ]
  },
  {
   "cell_type": "markdown",
   "metadata": {},
   "source": [
    "- [First steps with Julia](http://blog.brakmic.com/first-steps-with-julia/)\n",
    "- [Learn Julia in Y minutes](https://learnxinyminutes.com/docs/julia/)\n",
    "- [Introduction to Julia](https://www.youtube.com/watch?v=vWkgEddb4-A)  by David Sanders \n",
    "- [Introduction to Julia for Scientific Computing](https://www.youtube.com/watch?v=gQ1y5NUD_RI) by David Sanders"
   ]
  },
  {
   "cell_type": "markdown",
   "metadata": {},
   "source": [
    "Temas más avanzados:\n",
    "- [Juia in a nutshell](http://www.agilegeoscience.com/blog/2014/9/4/julia-in-a-nutshell.html)"
   ]
  },
  {
   "cell_type": "markdown",
   "metadata": {
    "collapsed": true
   },
   "source": [
    "## Numbers, variables and basic functions"
   ]
  },
  {
   "cell_type": "markdown",
   "metadata": {},
   "source": [
    "Tarea: Lee la  documentación [Integers and Floating Point numbers](http://docs.julialang.org/en/release-0.4/manual/integers-and-floating-point-numbers/)"
   ]
  },
  {
   "cell_type": "code",
   "execution_count": 30,
   "metadata": {
    "collapsed": false
   },
   "outputs": [
    {
     "data": {
      "text/plain": [
       "3"
      ]
     },
     "execution_count": 30,
     "metadata": {},
     "output_type": "execute_result"
    }
   ],
   "source": [
    "a = 3"
   ]
  },
  {
   "cell_type": "code",
   "execution_count": 32,
   "metadata": {
    "collapsed": false
   },
   "outputs": [
    {
     "data": {
      "text/plain": [
       "Int64"
      ]
     },
     "execution_count": 32,
     "metadata": {},
     "output_type": "execute_result"
    }
   ],
   "source": [
    "typeof(a)"
   ]
  },
  {
   "cell_type": "code",
   "execution_count": 35,
   "metadata": {
    "collapsed": false
   },
   "outputs": [
    {
     "data": {
      "text/plain": [
       "0.6"
      ]
     },
     "execution_count": 35,
     "metadata": {},
     "output_type": "execute_result"
    }
   ],
   "source": [
    "b = 3/5"
   ]
  },
  {
   "cell_type": "code",
   "execution_count": 36,
   "metadata": {
    "collapsed": false
   },
   "outputs": [
    {
     "data": {
      "text/plain": [
       "Float64"
      ]
     },
     "execution_count": 36,
     "metadata": {},
     "output_type": "execute_result"
    }
   ],
   "source": [
    "typeof(b)"
   ]
  },
  {
   "cell_type": "code",
   "execution_count": 38,
   "metadata": {
    "collapsed": false
   },
   "outputs": [
    {
     "data": {
      "text/plain": [
       "3//5"
      ]
     },
     "execution_count": 38,
     "metadata": {},
     "output_type": "execute_result"
    }
   ],
   "source": [
    "c = 3 //5"
   ]
  },
  {
   "cell_type": "code",
   "execution_count": 39,
   "metadata": {
    "collapsed": false
   },
   "outputs": [
    {
     "data": {
      "text/plain": [
       "Rational{Int64}"
      ]
     },
     "execution_count": 39,
     "metadata": {},
     "output_type": "execute_result"
    }
   ],
   "source": [
    "typeof(c)"
   ]
  },
  {
   "cell_type": "code",
   "execution_count": 40,
   "metadata": {
    "collapsed": false
   },
   "outputs": [
    {
     "data": {
      "text/plain": [
       "19//12"
      ]
     },
     "execution_count": 40,
     "metadata": {},
     "output_type": "execute_result"
    }
   ],
   "source": [
    "3//4 + 5//6"
   ]
  },
  {
   "cell_type": "markdown",
   "metadata": {},
   "source": [
    "Escribiendo \\alpha y después TAB puede usar notación LaTeX"
   ]
  },
  {
   "cell_type": "code",
   "execution_count": 2,
   "metadata": {
    "collapsed": false
   },
   "outputs": [
    {
     "data": {
      "text/plain": [
       "5"
      ]
     },
     "execution_count": 2,
     "metadata": {},
     "output_type": "execute_result"
    }
   ],
   "source": [
    "α = 5"
   ]
  },
  {
   "cell_type": "code",
   "execution_count": 4,
   "metadata": {
    "collapsed": false
   },
   "outputs": [
    {
     "name": "stderr",
     "output_type": "stream",
     "text": [
      "WARNING: Method definition f(Any) in module Main at In[3]:1 overwritten at In[4]:1.\n"
     ]
    },
    {
     "data": {
      "text/plain": [
       "f (generic function with 1 method)"
      ]
     },
     "execution_count": 4,
     "metadata": {},
     "output_type": "execute_result"
    }
   ],
   "source": [
    "f(x) = 2x"
   ]
  },
  {
   "cell_type": "code",
   "execution_count": 6,
   "metadata": {
    "collapsed": false
   },
   "outputs": [
    {
     "data": {
      "text/plain": [
       "10"
      ]
     },
     "execution_count": 6,
     "metadata": {},
     "output_type": "execute_result"
    }
   ],
   "source": [
    "f(α)"
   ]
  },
  {
   "cell_type": "markdown",
   "metadata": {},
   "source": [
    "Explora los siguientes comandos de julia\n",
    "   - `typemin`\n",
    "   - `typemax`\n",
    "La firma de estos es\n",
    "   - `typemin(tipo)`\n",
    "   - `typemax(tipo)`\n",
    " \n",
    "¿Qué crees qué significan? ¿Porqué en ciertos casos un `Inf` es regresado? ¿Significa esto que con **Julia** la computadora puede representar todos los reales?"
   ]
  },
  {
   "cell_type": "markdown",
   "metadata": {},
   "source": [
    "Define las siguientes dos variables\n",
    "\n",
    "+ x = 0.1\n",
    "+ y = 0.5\n"
   ]
  },
  {
   "cell_type": "markdown",
   "metadata": {},
   "source": [
    "Aplica la función big sobre estas variables. Interpreta e resultado"
   ]
  },
  {
   "cell_type": "code",
   "execution_count": 21,
   "metadata": {
    "collapsed": false
   },
   "outputs": [
    {
     "data": {
      "text/plain": [
       "1.000000000000000055511151231257827021181583404541015625000000000000000000000000e-01"
      ]
     },
     "execution_count": 21,
     "metadata": {},
     "output_type": "execute_result"
    }
   ],
   "source": [
    "x = 0.1\n",
    "big(x)"
   ]
  },
  {
   "cell_type": "code",
   "execution_count": 22,
   "metadata": {
    "collapsed": false
   },
   "outputs": [
    {
     "data": {
      "text/plain": [
       "5.000000000000000000000000000000000000000000000000000000000000000000000000000000e-01"
      ]
     },
     "execution_count": 22,
     "metadata": {},
     "output_type": "execute_result"
    }
   ],
   "source": [
    "y = 0.5\n",
    "big(y)"
   ]
  },
  {
   "cell_type": "markdown",
   "metadata": {},
   "source": [
    "Ahora aplica la función bits e interpreta el resultado"
   ]
  },
  {
   "cell_type": "code",
   "execution_count": 24,
   "metadata": {
    "collapsed": false
   },
   "outputs": [
    {
     "data": {
      "text/plain": [
       "\"0011111110111001100110011001100110011001100110011001100110011010\""
      ]
     },
     "execution_count": 24,
     "metadata": {},
     "output_type": "execute_result"
    }
   ],
   "source": [
    "bits(x)"
   ]
  },
  {
   "cell_type": "code",
   "execution_count": 25,
   "metadata": {
    "collapsed": false
   },
   "outputs": [
    {
     "data": {
      "text/plain": [
       "\"0011111111100000000000000000000000000000000000000000000000000000\""
      ]
     },
     "execution_count": 25,
     "metadata": {},
     "output_type": "execute_result"
    }
   ],
   "source": [
    "bits(y)"
   ]
  },
  {
   "cell_type": "markdown",
   "metadata": {},
   "source": [
    "## Iteration and ranges "
   ]
  },
  {
   "cell_type": "code",
   "execution_count": 92,
   "metadata": {
    "collapsed": false
   },
   "outputs": [
    {
     "name": "stdout",
     "output_type": "stream",
     "text": [
      "1\n",
      "2\n",
      "3\n",
      "4\n",
      "5\n",
      "6\n",
      "7\n",
      "8\n",
      "9\n",
      "10\n"
     ]
    }
   ],
   "source": [
    "for i in 1:10\n",
    "    println(i)\n",
    "end"
   ]
  },
  {
   "cell_type": "code",
   "execution_count": 95,
   "metadata": {
    "collapsed": false
   },
   "outputs": [
    {
     "data": {
      "text/plain": [
       "UnitRange{Int64}"
      ]
     },
     "execution_count": 95,
     "metadata": {},
     "output_type": "execute_result"
    }
   ],
   "source": [
    "typeof(1:10)"
   ]
  },
  {
   "cell_type": "code",
   "execution_count": 96,
   "metadata": {
    "collapsed": false
   },
   "outputs": [
    {
     "data": {
      "text/plain": [
       "1:10"
      ]
     },
     "execution_count": 96,
     "metadata": {},
     "output_type": "execute_result"
    }
   ],
   "source": [
    "a = 1:10"
   ]
  },
  {
   "cell_type": "code",
   "execution_count": 98,
   "metadata": {
    "collapsed": false
   },
   "outputs": [
    {
     "name": "stdout",
     "output_type": "stream",
     "text": [
      "1\n",
      "2\n",
      "3\n",
      "4\n",
      "5\n",
      "6\n",
      "7\n",
      "8\n",
      "9\n",
      "10\n"
     ]
    }
   ],
   "source": [
    "for j in a\n",
    "    println(j)\n",
    "end"
   ]
  },
  {
   "cell_type": "code",
   "execution_count": 99,
   "metadata": {
    "collapsed": false
   },
   "outputs": [
    {
     "name": "stdout",
     "output_type": "stream",
     "text": [
      "1\n",
      "2\n",
      "3\n",
      "4\n",
      "5\n",
      "6\n",
      "7\n",
      "8\n",
      "9\n",
      "10\n"
     ]
    }
   ],
   "source": [
    "for hola in a\n",
    "    println(hola)\n",
    "end"
   ]
  },
  {
   "cell_type": "markdown",
   "metadata": {},
   "source": [
    "## Tuples"
   ]
  },
  {
   "cell_type": "code",
   "execution_count": 101,
   "metadata": {
    "collapsed": false
   },
   "outputs": [
    {
     "data": {
      "text/plain": [
       "(1,3)"
      ]
     },
     "execution_count": 101,
     "metadata": {},
     "output_type": "execute_result"
    }
   ],
   "source": [
    "a = (1, 3)"
   ]
  },
  {
   "cell_type": "code",
   "execution_count": 103,
   "metadata": {
    "collapsed": false
   },
   "outputs": [
    {
     "data": {
      "text/plain": [
       "Tuple{Int64,Int64}"
      ]
     },
     "execution_count": 103,
     "metadata": {},
     "output_type": "execute_result"
    }
   ],
   "source": [
    "typeof(a)"
   ]
  },
  {
   "cell_type": "code",
   "execution_count": 104,
   "metadata": {
    "collapsed": false
   },
   "outputs": [
    {
     "data": {
      "text/plain": [
       "2-element Array{Int64,1}:\n",
       " 1\n",
       " 3"
      ]
     },
     "execution_count": 104,
     "metadata": {},
     "output_type": "execute_result"
    }
   ],
   "source": [
    "b = [1, 3]"
   ]
  },
  {
   "cell_type": "code",
   "execution_count": 105,
   "metadata": {
    "collapsed": false
   },
   "outputs": [
    {
     "data": {
      "text/plain": [
       "Array{Int64,1}"
      ]
     },
     "execution_count": 105,
     "metadata": {},
     "output_type": "execute_result"
    }
   ],
   "source": [
    "typeof(b)"
   ]
  },
  {
   "cell_type": "markdown",
   "metadata": {},
   "source": [
    "## Vectors"
   ]
  },
  {
   "cell_type": "code",
   "execution_count": 2,
   "metadata": {
    "collapsed": false
   },
   "outputs": [
    {
     "data": {
      "text/plain": [
       "1-element Array{Int64,1}:\n",
       " 1"
      ]
     },
     "execution_count": 2,
     "metadata": {},
     "output_type": "execute_result"
    }
   ],
   "source": [
    "v = [1]"
   ]
  },
  {
   "cell_type": "code",
   "execution_count": 3,
   "metadata": {
    "collapsed": false
   },
   "outputs": [
    {
     "ename": "LoadError",
     "evalue": "LoadError: InexactError()\nwhile loading In[3], in expression starting on line 1",
     "output_type": "error",
     "traceback": [
      "LoadError: InexactError()\nwhile loading In[3], in expression starting on line 1",
      "",
      " in push!(::Array{Int64,1}, ::Float64) at ./array.jl:456",
      " [inlined code] from ./int.jl:33",
      " in include_string(::String, ::String) at ./loading.jl:380"
     ]
    }
   ],
   "source": [
    "push!(v,3.5)"
   ]
  },
  {
   "cell_type": "code",
   "execution_count": 4,
   "metadata": {
    "collapsed": false
   },
   "outputs": [],
   "source": [
    "w = Any[]"
   ]
  },
  {
   "cell_type": "code",
   "execution_count": 5,
   "metadata": {
    "collapsed": false
   },
   "outputs": [],
   "source": [
    "k = Float64[]"
   ]
  },
  {
   "cell_type": "code",
   "execution_count": 6,
   "metadata": {
    "collapsed": false
   },
   "outputs": [
    {
     "data": {
      "text/plain": [
       "3-element Array{Float64,1}:\n",
       " 6.90291e-310\n",
       " 6.90291e-310\n",
       " 6.90291e-310"
      ]
     },
     "execution_count": 6,
     "metadata": {},
     "output_type": "execute_result"
    }
   ],
   "source": [
    "b = Array{Float64,1}(3)"
   ]
  },
  {
   "cell_type": "code",
   "execution_count": 11,
   "metadata": {
    "collapsed": false
   },
   "outputs": [
    {
     "data": {
      "text/plain": [
       "1-element Array{Any,1}:\n",
       " 4.0"
      ]
     },
     "execution_count": 11,
     "metadata": {},
     "output_type": "execute_result"
    }
   ],
   "source": [
    "push!(w,4.0)"
   ]
  },
  {
   "cell_type": "code",
   "execution_count": 14,
   "metadata": {
    "collapsed": false
   },
   "outputs": [
    {
     "data": {
      "text/plain": [
       "2-element Array{Any,1}:\n",
       " 4.0\n",
       " 5  "
      ]
     },
     "execution_count": 14,
     "metadata": {},
     "output_type": "execute_result"
    }
   ],
   "source": [
    "push!(w,5)"
   ]
  },
  {
   "cell_type": "code",
   "execution_count": 16,
   "metadata": {
    "collapsed": false
   },
   "outputs": [
    {
     "data": {
      "text/plain": [
       "2-element Array{Any,1}:\n",
       " 4.0\n",
       " 5  "
      ]
     },
     "execution_count": 16,
     "metadata": {},
     "output_type": "execute_result"
    }
   ],
   "source": [
    "a = w"
   ]
  },
  {
   "cell_type": "code",
   "execution_count": 17,
   "metadata": {
    "collapsed": false
   },
   "outputs": [
    {
     "data": {
      "text/plain": [
       "3-element Array{Any,1}:\n",
       " 4.0    \n",
       " 5      \n",
       "  \"hola\""
      ]
     },
     "execution_count": 17,
     "metadata": {},
     "output_type": "execute_result"
    }
   ],
   "source": [
    "push!(w, \"hola\")"
   ]
  },
  {
   "cell_type": "code",
   "execution_count": 20,
   "metadata": {
    "collapsed": false
   },
   "outputs": [
    {
     "data": {
      "text/plain": [
       "3-element Array{Any,1}:\n",
       " 4.0    \n",
       " 5      \n",
       "  \"hola\""
      ]
     },
     "execution_count": 20,
     "metadata": {},
     "output_type": "execute_result"
    }
   ],
   "source": [
    "a"
   ]
  },
  {
   "cell_type": "code",
   "execution_count": 27,
   "metadata": {
    "collapsed": false
   },
   "outputs": [
    {
     "data": {
      "text/plain": [
       "10-element Array{Float64,1}:\n",
       " 0.0\n",
       " 0.0\n",
       " 0.0\n",
       " 0.0\n",
       " 0.0\n",
       " 0.0\n",
       " 0.0\n",
       " 0.0\n",
       " 0.0\n",
       " 0.0"
      ]
     },
     "execution_count": 27,
     "metadata": {},
     "output_type": "execute_result"
    }
   ],
   "source": [
    "Vector{Float64}(10)"
   ]
  },
  {
   "cell_type": "code",
   "execution_count": 28,
   "metadata": {
    "collapsed": false
   },
   "outputs": [
    {
     "data": {
      "text/plain": [
       "10-element Array{Any,1}:\n",
       " #undef\n",
       " #undef\n",
       " #undef\n",
       " #undef\n",
       " #undef\n",
       " #undef\n",
       " #undef\n",
       " #undef\n",
       " #undef\n",
       " #undef"
      ]
     },
     "execution_count": 28,
     "metadata": {},
     "output_type": "execute_result"
    }
   ],
   "source": [
    "Vector(10)"
   ]
  },
  {
   "cell_type": "code",
   "execution_count": 108,
   "metadata": {
    "collapsed": false
   },
   "outputs": [
    {
     "data": {
      "text/plain": [
       "10-element Array{Int64,1}:\n",
       " 78\n",
       " 15\n",
       " 25\n",
       " 69\n",
       " 47\n",
       " 58\n",
       " 25\n",
       " 31\n",
       " 45\n",
       " 72"
      ]
     },
     "execution_count": 108,
     "metadata": {},
     "output_type": "execute_result"
    }
   ],
   "source": [
    "b = [78, 15, 25 ,69, 47, 58, 25 ,31, 45, 72]"
   ]
  },
  {
   "cell_type": "code",
   "execution_count": 111,
   "metadata": {
    "collapsed": false
   },
   "outputs": [
    {
     "data": {
      "text/plain": [
       "10-element Array{Int64,1}:\n",
       " 15\n",
       " 25\n",
       " 25\n",
       " 31\n",
       " 45\n",
       " 47\n",
       " 58\n",
       " 69\n",
       " 72\n",
       " 78"
      ]
     },
     "execution_count": 111,
     "metadata": {},
     "output_type": "execute_result"
    }
   ],
   "source": [
    "c = sort(b)"
   ]
  },
  {
   "cell_type": "code",
   "execution_count": 113,
   "metadata": {
    "collapsed": false
   },
   "outputs": [
    {
     "data": {
      "text/plain": [
       "false"
      ]
     },
     "execution_count": 113,
     "metadata": {},
     "output_type": "execute_result"
    }
   ],
   "source": [
    "c == b"
   ]
  },
  {
   "cell_type": "code",
   "execution_count": 114,
   "metadata": {
    "collapsed": false
   },
   "outputs": [
    {
     "data": {
      "text/plain": [
       "10-element Array{Int64,1}:\n",
       " 15\n",
       " 25\n",
       " 25\n",
       " 31\n",
       " 45\n",
       " 47\n",
       " 58\n",
       " 69\n",
       " 72\n",
       " 78"
      ]
     },
     "execution_count": 114,
     "metadata": {},
     "output_type": "execute_result"
    }
   ],
   "source": [
    "sort!(b)"
   ]
  },
  {
   "cell_type": "code",
   "execution_count": 115,
   "metadata": {
    "collapsed": false
   },
   "outputs": [
    {
     "data": {
      "text/plain": [
       "true"
      ]
     },
     "execution_count": 115,
     "metadata": {},
     "output_type": "execute_result"
    }
   ],
   "source": [
    "c == b"
   ]
  },
  {
   "cell_type": "code",
   "execution_count": 1,
   "metadata": {
    "collapsed": false
   },
   "outputs": [
    {
     "name": "stdout",
     "output_type": "stream",
     "text": [
      "search: push! pushdisplay\n",
      "\n"
     ]
    },
    {
     "data": {
      "text/latex": [
       "\\begin{verbatim}\n",
       "..  push!(collection, items...) -> collection\n",
       "\n",
       "Insert one or more ``items`` at the end of ``collection``.\n",
       "\n",
       ".. doctest::\n",
       "\n",
       "  julia> push!([1, 2, 3], 4, 5, 6)\n",
       "  6-element Array{Int64,1}:\n",
       "   1\n",
       "   2\n",
       "   3\n",
       "   4\n",
       "   5\n",
       "   6\n",
       "\n",
       "Use :func:`append!` to add all the elements of another collection to\n",
       "``collection``.\n",
       "The result of the preceding example is equivalent to\n",
       "``append!([1, 2, 3], [4, 5, 6])``.\n",
       "\\end{verbatim}\n"
      ],
      "text/markdown": [
       "```rst\n",
       "..  push!(collection, items...) -> collection\n",
       "\n",
       "Insert one or more ``items`` at the end of ``collection``.\n",
       "\n",
       ".. doctest::\n",
       "\n",
       "  julia> push!([1, 2, 3], 4, 5, 6)\n",
       "  6-element Array{Int64,1}:\n",
       "   1\n",
       "   2\n",
       "   3\n",
       "   4\n",
       "   5\n",
       "   6\n",
       "\n",
       "Use :func:`append!` to add all the elements of another collection to\n",
       "``collection``.\n",
       "The result of the preceding example is equivalent to\n",
       "``append!([1, 2, 3], [4, 5, 6])``.\n",
       "```\n"
      ],
      "text/plain": [
       "```rst\n",
       "..  push!(collection, items...) -> collection\n",
       "\n",
       "Insert one or more ``items`` at the end of ``collection``.\n",
       "\n",
       ".. doctest::\n",
       "\n",
       "  julia> push!([1, 2, 3], 4, 5, 6)\n",
       "  6-element Array{Int64,1}:\n",
       "   1\n",
       "   2\n",
       "   3\n",
       "   4\n",
       "   5\n",
       "   6\n",
       "\n",
       "Use :func:`append!` to add all the elements of another collection to\n",
       "``collection``.\n",
       "The result of the preceding example is equivalent to\n",
       "``append!([1, 2, 3], [4, 5, 6])``.\n",
       "```\n"
      ]
     },
     "execution_count": 1,
     "metadata": {},
     "output_type": "execute_result"
    }
   ],
   "source": [
    "? push!"
   ]
  },
  {
   "cell_type": "code",
   "execution_count": 2,
   "metadata": {
    "collapsed": false
   },
   "outputs": [
    {
     "name": "stdout",
     "output_type": "stream",
     "text": [
      "search: append!\n",
      "\n"
     ]
    },
    {
     "data": {
      "text/latex": [
       "\\begin{verbatim}\n",
       "..  append!(collection, collection2) -> collection.\n",
       "\n",
       "Add the elements of ``collection2`` to the end of ``collection``.\n",
       "\n",
       ".. doctest::\n",
       "\n",
       "   julia> append!([1],[2,3])\n",
       "   3-element Array{Int64,1}:\n",
       "    1\n",
       "    2\n",
       "    3\n",
       "\n",
       ".. doctest::\n",
       "\n",
       "   julia> append!([1, 2, 3], [4, 5, 6])\n",
       "   6-element Array{Int64,1}:\n",
       "    1\n",
       "    2\n",
       "    3\n",
       "    4\n",
       "    5\n",
       "    6\n",
       "\n",
       "Use :func:`push!` to add individual items to ``collection`` which are not\n",
       "already themselves in another collection.\n",
       "The result is of the preceding example is equivalent to\n",
       "``push!([1, 2, 3], 4, 5, 6)``.\n",
       "\\end{verbatim}\n"
      ],
      "text/markdown": [
       "```rst\n",
       "..  append!(collection, collection2) -> collection.\n",
       "\n",
       "Add the elements of ``collection2`` to the end of ``collection``.\n",
       "\n",
       ".. doctest::\n",
       "\n",
       "   julia> append!([1],[2,3])\n",
       "   3-element Array{Int64,1}:\n",
       "    1\n",
       "    2\n",
       "    3\n",
       "\n",
       ".. doctest::\n",
       "\n",
       "   julia> append!([1, 2, 3], [4, 5, 6])\n",
       "   6-element Array{Int64,1}:\n",
       "    1\n",
       "    2\n",
       "    3\n",
       "    4\n",
       "    5\n",
       "    6\n",
       "\n",
       "Use :func:`push!` to add individual items to ``collection`` which are not\n",
       "already themselves in another collection.\n",
       "The result is of the preceding example is equivalent to\n",
       "``push!([1, 2, 3], 4, 5, 6)``.\n",
       "```\n"
      ],
      "text/plain": [
       "```rst\n",
       "..  append!(collection, collection2) -> collection.\n",
       "\n",
       "Add the elements of ``collection2`` to the end of ``collection``.\n",
       "\n",
       ".. doctest::\n",
       "\n",
       "   julia> append!([1],[2,3])\n",
       "   3-element Array{Int64,1}:\n",
       "    1\n",
       "    2\n",
       "    3\n",
       "\n",
       ".. doctest::\n",
       "\n",
       "   julia> append!([1, 2, 3], [4, 5, 6])\n",
       "   6-element Array{Int64,1}:\n",
       "    1\n",
       "    2\n",
       "    3\n",
       "    4\n",
       "    5\n",
       "    6\n",
       "\n",
       "Use :func:`push!` to add individual items to ``collection`` which are not\n",
       "already themselves in another collection.\n",
       "The result is of the preceding example is equivalent to\n",
       "``push!([1, 2, 3], 4, 5, 6)``.\n",
       "```\n"
      ]
     },
     "execution_count": 2,
     "metadata": {},
     "output_type": "execute_result"
    }
   ],
   "source": [
    "? append!"
   ]
  },
  {
   "cell_type": "code",
   "execution_count": 3,
   "metadata": {
    "collapsed": false
   },
   "outputs": [
    {
     "data": {
      "text/plain": [
       "3-element Array{Int64,1}:\n",
       " 1\n",
       " 2\n",
       " 3"
      ]
     },
     "execution_count": 3,
     "metadata": {},
     "output_type": "execute_result"
    }
   ],
   "source": [
    "a = [1,2,3]"
   ]
  },
  {
   "cell_type": "code",
   "execution_count": 4,
   "metadata": {
    "collapsed": false
   },
   "outputs": [
    {
     "data": {
      "text/plain": [
       "3-element Array{Int64,1}:\n",
       " 1\n",
       " 2\n",
       " 3"
      ]
     },
     "execution_count": 4,
     "metadata": {},
     "output_type": "execute_result"
    }
   ],
   "source": [
    "b = copy(a)"
   ]
  },
  {
   "cell_type": "code",
   "execution_count": 5,
   "metadata": {
    "collapsed": false
   },
   "outputs": [
    {
     "data": {
      "text/plain": [
       "5"
      ]
     },
     "execution_count": 5,
     "metadata": {},
     "output_type": "execute_result"
    }
   ],
   "source": [
    "a[3] = 5"
   ]
  },
  {
   "cell_type": "code",
   "execution_count": 6,
   "metadata": {
    "collapsed": false
   },
   "outputs": [
    {
     "data": {
      "text/plain": [
       "false"
      ]
     },
     "execution_count": 6,
     "metadata": {},
     "output_type": "execute_result"
    }
   ],
   "source": [
    "a == b"
   ]
  },
  {
   "cell_type": "code",
   "execution_count": 7,
   "metadata": {
    "collapsed": false
   },
   "outputs": [
    {
     "data": {
      "text/plain": [
       "Ptr{Int64} @0x00007fd5cf2b9ba0"
      ]
     },
     "execution_count": 7,
     "metadata": {},
     "output_type": "execute_result"
    }
   ],
   "source": [
    "pointer(a)"
   ]
  },
  {
   "cell_type": "markdown",
   "metadata": {},
   "source": [
    "## Functions\n"
   ]
  },
  {
   "cell_type": "code",
   "execution_count": 8,
   "metadata": {
    "collapsed": false
   },
   "outputs": [
    {
     "data": {
      "text/plain": [
       "f (generic function with 1 method)"
      ]
     },
     "execution_count": 8,
     "metadata": {},
     "output_type": "execute_result"
    }
   ],
   "source": [
    "\n",
    "f(x) = 2*x"
   ]
  },
  {
   "cell_type": "code",
   "execution_count": 9,
   "metadata": {
    "collapsed": false
   },
   "outputs": [
    {
     "data": {
      "text/plain": [
       "g (generic function with 1 method)"
      ]
     },
     "execution_count": 9,
     "metadata": {},
     "output_type": "execute_result"
    }
   ],
   "source": [
    "g(x) = 2.0*x"
   ]
  },
  {
   "cell_type": "code",
   "execution_count": 10,
   "metadata": {
    "collapsed": false
   },
   "outputs": [
    {
     "data": {
      "text/plain": [
       "(4,4.0)"
      ]
     },
     "execution_count": 10,
     "metadata": {},
     "output_type": "execute_result"
    }
   ],
   "source": [
    "f(2), g(2)"
   ]
  },
  {
   "cell_type": "code",
   "execution_count": 11,
   "metadata": {
    "collapsed": false
   },
   "outputs": [
    {
     "data": {
      "text/html": [
       "1 method for generic function <b>f</b>:<ul><li> f(x) at In[8]:2</ul>"
      ],
      "text/plain": [
       "# 1 method for generic function \"f\":\n",
       "f(x) at In[8]:2"
      ]
     },
     "execution_count": 11,
     "metadata": {},
     "output_type": "execute_result"
    }
   ],
   "source": [
    "methods(f)"
   ]
  },
  {
   "cell_type": "code",
   "execution_count": 12,
   "metadata": {
    "collapsed": false
   },
   "outputs": [
    {
     "data": {
      "text/plain": [
       "8.0"
      ]
     },
     "execution_count": 12,
     "metadata": {},
     "output_type": "execute_result"
    }
   ],
   "source": [
    "2^3.0"
   ]
  },
  {
   "cell_type": "code",
   "execution_count": 13,
   "metadata": {
    "collapsed": false
   },
   "outputs": [
    {
     "data": {
      "text/html": [
       "45 methods for generic function <b>^</b>:<ul><li> ^(x::<b>Bool</b>, y::<b>Bool</b>) at <a href=\"https://github.com/JuliaLang/julia/tree/03c072d725b6e2798347d00c9b46a3965edddaf8/base/bool.jl#L39\" target=\"_blank\">bool.jl:39</a><li> ^(x::<b>BigInt</b>, y::<b>Bool</b>) at <a href=\"https://github.com/JuliaLang/julia/tree/03c072d725b6e2798347d00c9b46a3965edddaf8/base/gmp.jl#L430\" target=\"_blank\">gmp.jl:430</a><li> ^(x::<b>Integer</b>, y::<b>Bool</b>) at <a href=\"https://github.com/JuliaLang/julia/tree/03c072d725b6e2798347d00c9b46a3965edddaf8/base/bool.jl#L40\" target=\"_blank\">bool.jl:40</a><li> ^<i>{T<:AbstractFloat}</i>(z::<b>Complex{T<:AbstractFloat}</b>, p::<b>Complex{T<:AbstractFloat}</b>) at <a href=\"https://github.com/JuliaLang/julia/tree/03c072d725b6e2798347d00c9b46a3965edddaf8/base/complex.jl#L433\" target=\"_blank\">complex.jl:433</a><li> ^<i>{T<:Complex{T<:Real}}</i>(z::<b>T<:Complex{T<:Real}</b>, p::<b>T<:Complex{T<:Real}</b>) at <a href=\"https://github.com/JuliaLang/julia/tree/03c072d725b6e2798347d00c9b46a3965edddaf8/base/complex.jl#L480\" target=\"_blank\">complex.jl:480</a><li> ^<i>{T<:AbstractFloat}</i>(z::<b>Complex{T<:AbstractFloat}</b>, n::<b>Bool</b>) at <a href=\"https://github.com/JuliaLang/julia/tree/03c072d725b6e2798347d00c9b46a3965edddaf8/base/complex.jl#L540\" target=\"_blank\">complex.jl:540</a><li> ^<i>{T<:Integer}</i>(z::<b>Complex{T<:Integer}</b>, n::<b>Bool</b>) at <a href=\"https://github.com/JuliaLang/julia/tree/03c072d725b6e2798347d00c9b46a3965edddaf8/base/complex.jl#L541\" target=\"_blank\">complex.jl:541</a><li> ^<i>{T<:Rational{T<:Integer}}</i>(z::<b>Complex{T<:Rational{T<:Integer}}</b>, n::<b>Bool</b>) at <a href=\"https://github.com/JuliaLang/julia/tree/03c072d725b6e2798347d00c9b46a3965edddaf8/base/rational.jl#L321\" target=\"_blank\">rational.jl:321</a><li> ^(z::<b>Complex{T<:Real}</b>, n::<b>Bool</b>) at <a href=\"https://github.com/JuliaLang/julia/tree/03c072d725b6e2798347d00c9b46a3965edddaf8/base/complex.jl#L537\" target=\"_blank\">complex.jl:537</a><li> ^<i>{T<:AbstractFloat}</i>(z::<b>Complex{T<:AbstractFloat}</b>, n::<b>Integer</b>) at <a href=\"https://github.com/JuliaLang/julia/tree/03c072d725b6e2798347d00c9b46a3965edddaf8/base/complex.jl#L543\" target=\"_blank\">complex.jl:543</a><li> ^<i>{T<:Integer}</i>(z::<b>Complex{T<:Integer}</b>, n::<b>Integer</b>) at <a href=\"https://github.com/JuliaLang/julia/tree/03c072d725b6e2798347d00c9b46a3965edddaf8/base/complex.jl#L545\" target=\"_blank\">complex.jl:545</a><li> ^<i>{T<:Rational{T<:Integer}}</i>(z::<b>Complex{T<:Rational{T<:Integer}}</b>, n::<b>Integer</b>) at <a href=\"https://github.com/JuliaLang/julia/tree/03c072d725b6e2798347d00c9b46a3965edddaf8/base/rational.jl#L323\" target=\"_blank\">rational.jl:323</a><li> ^(z::<b>Complex{T<:Real}</b>, n::<b>Integer</b>) at <a href=\"https://github.com/JuliaLang/julia/tree/03c072d725b6e2798347d00c9b46a3965edddaf8/base/complex.jl#L538\" target=\"_blank\">complex.jl:538</a><li> ^(x::<b>Rational{T<:Integer}</b>, n::<b>Integer</b>) at <a href=\"https://github.com/JuliaLang/julia/tree/03c072d725b6e2798347d00c9b46a3965edddaf8/base/rational.jl#L314\" target=\"_blank\">rational.jl:314</a><li> ^<i>{T<:AbstractFloat}</i>(x::<b>T<:AbstractFloat</b>, y::<b>Rational{T<:Integer}</b>) at <a href=\"https://github.com/JuliaLang/julia/tree/03c072d725b6e2798347d00c9b46a3965edddaf8/base/rational.jl#L318\" target=\"_blank\">rational.jl:318</a><li> ^<i>{T<:AbstractFloat}</i>(x::<b>Complex{T<:AbstractFloat}</b>, y::<b>Rational{T<:Integer}</b>) at <a href=\"https://github.com/JuliaLang/julia/tree/03c072d725b6e2798347d00c9b46a3965edddaf8/base/rational.jl#L319\" target=\"_blank\">rational.jl:319</a><li> ^(::<b>Irrational{:e}</b>, x::<b>Rational{T<:Integer}</b>) at <a href=\"https://github.com/JuliaLang/julia/tree/03c072d725b6e2798347d00c9b46a3965edddaf8/base/irrationals.jl#L123\" target=\"_blank\">irrationals.jl:123</a><li> ^(x::<b>Number</b>, y::<b>Rational{T<:Integer}</b>) at <a href=\"https://github.com/JuliaLang/julia/tree/03c072d725b6e2798347d00c9b46a3965edddaf8/base/rational.jl#L317\" target=\"_blank\">rational.jl:317</a><li> ^(x::<b>BigInt</b>, y::<b>UInt64</b>) at <a href=\"https://github.com/JuliaLang/julia/tree/03c072d725b6e2798347d00c9b46a3965edddaf8/base/gmp.jl#L404\" target=\"_blank\">gmp.jl:404</a><li> ^(x::<b>BigInt</b>, y::<b>BigInt</b>) at <a href=\"https://github.com/JuliaLang/julia/tree/03c072d725b6e2798347d00c9b46a3965edddaf8/base/gmp.jl#L429\" target=\"_blank\">gmp.jl:429</a><li> ^(x::<b>BigInt</b>, y::<b>Integer</b>) at <a href=\"https://github.com/JuliaLang/julia/tree/03c072d725b6e2798347d00c9b46a3965edddaf8/base/gmp.jl#L431\" target=\"_blank\">gmp.jl:431</a><li> ^(x::<b>Integer</b>, y::<b>BigInt</b>) at <a href=\"https://github.com/JuliaLang/julia/tree/03c072d725b6e2798347d00c9b46a3965edddaf8/base/gmp.jl#L432\" target=\"_blank\">gmp.jl:432</a><li> ^<i>{T<:Integer}</i>(x::<b>T<:Integer</b>, p::<b>T<:Integer</b>) at <a href=\"https://github.com/JuliaLang/julia/tree/03c072d725b6e2798347d00c9b46a3965edddaf8/base/intfuncs.jl#L106\" target=\"_blank\">intfuncs.jl:106</a><li> ^(x::<b>Float64</b>, y::<b>Integer</b>) at <a href=\"https://github.com/JuliaLang/julia/tree/03c072d725b6e2798347d00c9b46a3965edddaf8/base/math.jl#L278\" target=\"_blank\">math.jl:278</a><li> ^(x::<b>Float32</b>, y::<b>Integer</b>) at <a href=\"https://github.com/JuliaLang/julia/tree/03c072d725b6e2798347d00c9b46a3965edddaf8/base/math.jl#L280\" target=\"_blank\">math.jl:280</a><li> ^(x::<b>Float16</b>, y::<b>Integer</b>) at <a href=\"https://github.com/JuliaLang/julia/tree/03c072d725b6e2798347d00c9b46a3965edddaf8/base/float16.jl#L163\" target=\"_blank\">float16.jl:163</a><li> ^(x::<b>BigFloat</b>, y::<b>Union{UInt16,UInt32,UInt64,UInt8}</b>) at <a href=\"https://github.com/JuliaLang/julia/tree/03c072d725b6e2798347d00c9b46a3965edddaf8/base/mpfr.jl#L427\" target=\"_blank\">mpfr.jl:427</a><li> ^(x::<b>BigFloat</b>, y::<b>Union{Int16,Int32,Int64,Int8}</b>) at <a href=\"https://github.com/JuliaLang/julia/tree/03c072d725b6e2798347d00c9b46a3965edddaf8/base/mpfr.jl#L433\" target=\"_blank\">mpfr.jl:433</a><li> ^(x::<b>BigFloat</b>, y::<b>BigInt</b>) at <a href=\"https://github.com/JuliaLang/julia/tree/03c072d725b6e2798347d00c9b46a3965edddaf8/base/mpfr.jl#L439\" target=\"_blank\">mpfr.jl:439</a><li> ^(::<b>Irrational{:e}</b>, x::<b>Integer</b>) at <a href=\"https://github.com/JuliaLang/julia/tree/03c072d725b6e2798347d00c9b46a3965edddaf8/base/irrationals.jl#L123\" target=\"_blank\">irrationals.jl:123</a><li> ^(x::<b>Number</b>, p::<b>Integer</b>) at <a href=\"https://github.com/JuliaLang/julia/tree/03c072d725b6e2798347d00c9b46a3965edddaf8/base/intfuncs.jl#L107\" target=\"_blank\">intfuncs.jl:107</a><li> ^(x::<b>Float64</b>, y::<b>Float64</b>) at <a href=\"https://github.com/JuliaLang/julia/tree/03c072d725b6e2798347d00c9b46a3965edddaf8/base/math.jl#L275\" target=\"_blank\">math.jl:275</a><li> ^(x::<b>Float32</b>, y::<b>Float32</b>) at <a href=\"https://github.com/JuliaLang/julia/tree/03c072d725b6e2798347d00c9b46a3965edddaf8/base/math.jl#L276\" target=\"_blank\">math.jl:276</a><li> ^(a::<b>Float16</b>, b::<b>Float16</b>) at <a href=\"https://github.com/JuliaLang/julia/tree/03c072d725b6e2798347d00c9b46a3965edddaf8/base/float16.jl#L136\" target=\"_blank\">float16.jl:136</a><li> ^(x::<b>BigFloat</b>, y::<b>BigFloat</b>) at <a href=\"https://github.com/JuliaLang/julia/tree/03c072d725b6e2798347d00c9b46a3965edddaf8/base/mpfr.jl#L421\" target=\"_blank\">mpfr.jl:421</a><li> ^(::<b>Irrational{:e}</b>, x::<b>Irrational{sym}</b>) at <a href=\"https://github.com/JuliaLang/julia/tree/03c072d725b6e2798347d00c9b46a3965edddaf8/base/irrationals.jl#L123\" target=\"_blank\">irrationals.jl:123</a><li> ^(x::<b>Irrational{sym}</b>, y::<b>Irrational{sym}</b>) at <a href=\"https://github.com/JuliaLang/julia/tree/03c072d725b6e2798347d00c9b46a3965edddaf8/base/irrationals.jl#L72\" target=\"_blank\">irrationals.jl:72</a><li> ^(::<b>Irrational{:e}</b>, x::<b>Number</b>) at <a href=\"https://github.com/JuliaLang/julia/tree/03c072d725b6e2798347d00c9b46a3965edddaf8/base/irrationals.jl#L123\" target=\"_blank\">irrationals.jl:123</a><li> ^<i>{T<:Number}</i>(x::<b>T<:Number</b>, y::<b>T<:Number</b>) at <a href=\"https://github.com/JuliaLang/julia/tree/03c072d725b6e2798347d00c9b46a3965edddaf8/base/promotion.jl#L215\" target=\"_blank\">promotion.jl:215</a><li> ^(x::<b>Number</b>, y::<b>Number</b>) at <a href=\"https://github.com/JuliaLang/julia/tree/03c072d725b6e2798347d00c9b46a3965edddaf8/base/promotion.jl#L171\" target=\"_blank\">promotion.jl:171</a><li> ^(s::<b>AbstractString</b>, r::<b>Integer</b>) at <a href=\"https://github.com/JuliaLang/julia/tree/03c072d725b6e2798347d00c9b46a3965edddaf8/base/strings/types.jl#L185\" target=\"_blank\">strings/types.jl:185</a><li> ^(A::<b>Array{T,2}</b>, p::<b>Integer</b>) at <a href=\"https://github.com/JuliaLang/julia/tree/03c072d725b6e2798347d00c9b46a3965edddaf8/base/linalg/dense.jl#L172\" target=\"_blank\">linalg/dense.jl:172</a><li> ^(x, p::<b>Integer</b>) at <a href=\"https://github.com/JuliaLang/julia/tree/03c072d725b6e2798347d00c9b46a3965edddaf8/base/intfuncs.jl#L108\" target=\"_blank\">intfuncs.jl:108</a><li> ^(A::<b>Array{T,2}</b>, p::<b>Number</b>) at <a href=\"https://github.com/JuliaLang/julia/tree/03c072d725b6e2798347d00c9b46a3965edddaf8/base/linalg/dense.jl#L175\" target=\"_blank\">linalg/dense.jl:175</a><li> ^(::<b>Irrational{:e}</b>, x::<b>AbstractArray{T,2}</b>) at <a href=\"https://github.com/JuliaLang/julia/tree/03c072d725b6e2798347d00c9b46a3965edddaf8/base/irrationals.jl#L128\" target=\"_blank\">irrationals.jl:128</a></ul>"
      ],
      "text/plain": [
       "# 45 methods for generic function \"^\":\n",
       "^(x::Bool, y::Bool) at bool.jl:39\n",
       "^(x::BigInt, y::Bool) at gmp.jl:430\n",
       "^(x::Integer, y::Bool) at bool.jl:40\n",
       "^{T<:AbstractFloat}(z::Complex{T<:AbstractFloat}, p::Complex{T<:AbstractFloat}) at complex.jl:433\n",
       "^{T<:Complex{T<:Real}}(z::T<:Complex{T<:Real}, p::T<:Complex{T<:Real}) at complex.jl:480\n",
       "^{T<:AbstractFloat}(z::Complex{T<:AbstractFloat}, n::Bool) at complex.jl:540\n",
       "^{T<:Integer}(z::Complex{T<:Integer}, n::Bool) at complex.jl:541\n",
       "^{T<:Rational{T<:Integer}}(z::Complex{T<:Rational{T<:Integer}}, n::Bool) at rational.jl:321\n",
       "^(z::Complex{T<:Real}, n::Bool) at complex.jl:537\n",
       "^{T<:AbstractFloat}(z::Complex{T<:AbstractFloat}, n::Integer) at complex.jl:543\n",
       "^{T<:Integer}(z::Complex{T<:Integer}, n::Integer) at complex.jl:545\n",
       "^{T<:Rational{T<:Integer}}(z::Complex{T<:Rational{T<:Integer}}, n::Integer) at rational.jl:323\n",
       "^(z::Complex{T<:Real}, n::Integer) at complex.jl:538\n",
       "^(x::Rational{T<:Integer}, n::Integer) at rational.jl:314\n",
       "^{T<:AbstractFloat}(x::T<:AbstractFloat, y::Rational{T<:Integer}) at rational.jl:318\n",
       "^{T<:AbstractFloat}(x::Complex{T<:AbstractFloat}, y::Rational{T<:Integer}) at rational.jl:319\n",
       "^(::Irrational{:e}, x::Rational{T<:Integer}) at irrationals.jl:123\n",
       "^(x::Number, y::Rational{T<:Integer}) at rational.jl:317\n",
       "^(x::BigInt, y::UInt64) at gmp.jl:404\n",
       "^(x::BigInt, y::BigInt) at gmp.jl:429\n",
       "^(x::BigInt, y::Integer) at gmp.jl:431\n",
       "^(x::Integer, y::BigInt) at gmp.jl:432\n",
       "^{T<:Integer}(x::T<:Integer, p::T<:Integer) at intfuncs.jl:106\n",
       "^(x::Float64, y::Integer) at math.jl:278\n",
       "^(x::Float32, y::Integer) at math.jl:280\n",
       "^(x::Float16, y::Integer) at float16.jl:163\n",
       "^(x::BigFloat, y::Union{UInt16,UInt32,UInt64,UInt8}) at mpfr.jl:427\n",
       "^(x::BigFloat, y::Union{Int16,Int32,Int64,Int8}) at mpfr.jl:433\n",
       "^(x::BigFloat, y::BigInt) at mpfr.jl:439\n",
       "^(::Irrational{:e}, x::Integer) at irrationals.jl:123\n",
       "^(x::Number, p::Integer) at intfuncs.jl:107\n",
       "^(x::Float64, y::Float64) at math.jl:275\n",
       "^(x::Float32, y::Float32) at math.jl:276\n",
       "^(a::Float16, b::Float16) at float16.jl:136\n",
       "^(x::BigFloat, y::BigFloat) at mpfr.jl:421\n",
       "^(::Irrational{:e}, x::Irrational{sym}) at irrationals.jl:123\n",
       "^(x::Irrational{sym}, y::Irrational{sym}) at irrationals.jl:72\n",
       "^(::Irrational{:e}, x::Number) at irrationals.jl:123\n",
       "^{T<:Number}(x::T<:Number, y::T<:Number) at promotion.jl:215\n",
       "^(x::Number, y::Number) at promotion.jl:171\n",
       "^(s::AbstractString, r::Integer) at strings/types.jl:185\n",
       "^(A::Array{T,2}, p::Integer) at linalg/dense.jl:172\n",
       "^(x, p::Integer) at intfuncs.jl:108\n",
       "^(A::Array{T,2}, p::Number) at linalg/dense.jl:175\n",
       "^(::Irrational{:e}, x::AbstractArray{T,2}) at irrationals.jl:128"
      ]
     },
     "execution_count": 13,
     "metadata": {},
     "output_type": "execute_result"
    }
   ],
   "source": [
    "methods(^)"
   ]
  },
  {
   "cell_type": "code",
   "execution_count": 14,
   "metadata": {
    "collapsed": false
   },
   "outputs": [
    {
     "data": {
      "text/html": [
       "^(x::<b>Number</b>, y::<b>Number</b>) at <a href=\"https://github.com/JuliaLang/julia/tree/03c072d725b6e2798347d00c9b46a3965edddaf8/base/promotion.jl#L171\" target=\"_blank\">promotion.jl:171</a>"
      ],
      "text/plain": [
       "^(x::Number, y::Number) at promotion.jl:171"
      ]
     },
     "execution_count": 14,
     "metadata": {},
     "output_type": "execute_result"
    }
   ],
   "source": [
    "@which 2^3.0"
   ]
  }
 ],
 "metadata": {
  "kernelspec": {
   "display_name": "Julia 0.4.6-pre",
   "language": "julia",
   "name": "julia-0.4"
  },
  "language_info": {
   "file_extension": ".jl",
   "mimetype": "application/julia",
   "name": "julia",
   "version": "0.4.6"
  }
 },
 "nbformat": 4,
 "nbformat_minor": 0
}
